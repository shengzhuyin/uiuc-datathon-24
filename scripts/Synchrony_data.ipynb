{
 "cells": [
  {
   "cell_type": "markdown",
   "metadata": {},
   "source": [
    "## Synchrony Datathon \n",
    "By Team Init to win It\n",
    "\n",
    "### Problem Statement\n",
    "\n",
    "The goal is to complete the following:\n",
    "* Analyze and identify attribute associations to customer call reasons within the IVR system with an emphasis on calls that the IVR did not resolve (i.e, calls transferred to agent).\n",
    "* Understanding the attributes, their relationship to call reasons, and the IVR’s effectiveness to address the call reason, suggest opportunities to improve overall customer experience and satisfaction. We encourage creative approaches in data analysis, visualization, and predictive modeling to address this challenge.\n",
    "\n",
    "### Our Methodology\n",
    "1) Data Pre-Processing\n",
    "2) EDA (Explatory Data Analysis)\n",
    "3) Data Visualizations\n",
    "4) Predictive Modeling\n",
    "5) Recommendations and Conclusion"
   ]
  },
  {
   "cell_type": "code",
   "execution_count": 48,
   "metadata": {},
   "outputs": [],
   "source": [
    "#Importing Libraries\n",
    "\n",
    "import pandas as pd\n",
    "import numpy as np\n",
    "import matplotlib.pyplot as plt\n",
    "import seaborn as sns\n",
    "from datetime import datetime"
   ]
  },
  {
   "cell_type": "markdown",
   "metadata": {},
   "source": [
    "Add section here where you concatnated both the csv files"
   ]
  },
  {
   "cell_type": "code",
   "execution_count": 49,
   "metadata": {},
   "outputs": [],
   "source": [
    "df = pd.read_csv('datamerged.csv')"
   ]
  },
  {
   "cell_type": "code",
   "execution_count": 50,
   "metadata": {},
   "outputs": [
    {
     "data": {
      "text/plain": [
       "(1798798, 24)"
      ]
     },
     "execution_count": 50,
     "metadata": {},
     "output_type": "execute_result"
    }
   ],
   "source": [
    "df.shape"
   ]
  },
  {
   "cell_type": "code",
   "execution_count": 51,
   "metadata": {},
   "outputs": [
    {
     "data": {
      "text/html": [
       "<div>\n",
       "<style scoped>\n",
       "    .dataframe tbody tr th:only-of-type {\n",
       "        vertical-align: middle;\n",
       "    }\n",
       "\n",
       "    .dataframe tbody tr th {\n",
       "        vertical-align: top;\n",
       "    }\n",
       "\n",
       "    .dataframe thead th {\n",
       "        text-align: right;\n",
       "    }\n",
       "</style>\n",
       "<table border=\"1\" class=\"dataframe\">\n",
       "  <thead>\n",
       "    <tr style=\"text-align: right;\">\n",
       "      <th></th>\n",
       "      <th>serial</th>\n",
       "      <th>no_of_accounts_with_syf_13_march</th>\n",
       "      <th>account_balance_13_march</th>\n",
       "      <th>eservice_ind_13_march</th>\n",
       "      <th>auto_pay_enrolled_status_13_march</th>\n",
       "      <th>no_of_accounts_with_syf_18_march</th>\n",
       "      <th>account_balance_18_march</th>\n",
       "      <th>eservice_ind_18_march</th>\n",
       "      <th>auto_pay_enrolled_status_18_march</th>\n",
       "    </tr>\n",
       "  </thead>\n",
       "  <tbody>\n",
       "    <tr>\n",
       "      <th>count</th>\n",
       "      <td>1.798798e+06</td>\n",
       "      <td>1.795398e+06</td>\n",
       "      <td>1.685016e+06</td>\n",
       "      <td>1.798798e+06</td>\n",
       "      <td>1.798798e+06</td>\n",
       "      <td>1.795396e+06</td>\n",
       "      <td>1.696969e+06</td>\n",
       "      <td>1.798798e+06</td>\n",
       "      <td>1.798798e+06</td>\n",
       "    </tr>\n",
       "    <tr>\n",
       "      <th>mean</th>\n",
       "      <td>1.497679e+10</td>\n",
       "      <td>4.938873e+00</td>\n",
       "      <td>1.317626e+03</td>\n",
       "      <td>3.295673e-01</td>\n",
       "      <td>2.248835e-02</td>\n",
       "      <td>4.948396e+00</td>\n",
       "      <td>1.317619e+03</td>\n",
       "      <td>3.339997e-01</td>\n",
       "      <td>2.272240e-02</td>\n",
       "    </tr>\n",
       "    <tr>\n",
       "      <th>std</th>\n",
       "      <td>5.000029e+09</td>\n",
       "      <td>3.623405e+00</td>\n",
       "      <td>1.972779e+03</td>\n",
       "      <td>4.700562e-01</td>\n",
       "      <td>1.482654e-01</td>\n",
       "      <td>3.627627e+00</td>\n",
       "      <td>1.979695e+03</td>\n",
       "      <td>4.716397e-01</td>\n",
       "      <td>1.490171e-01</td>\n",
       "    </tr>\n",
       "    <tr>\n",
       "      <th>min</th>\n",
       "      <td>1.000100e+10</td>\n",
       "      <td>1.000000e+00</td>\n",
       "      <td>-2.559600e+04</td>\n",
       "      <td>0.000000e+00</td>\n",
       "      <td>0.000000e+00</td>\n",
       "      <td>1.000000e+00</td>\n",
       "      <td>-2.559600e+04</td>\n",
       "      <td>0.000000e+00</td>\n",
       "      <td>0.000000e+00</td>\n",
       "    </tr>\n",
       "    <tr>\n",
       "      <th>25%</th>\n",
       "      <td>1.000400e+10</td>\n",
       "      <td>2.000000e+00</td>\n",
       "      <td>1.149700e+02</td>\n",
       "      <td>0.000000e+00</td>\n",
       "      <td>0.000000e+00</td>\n",
       "      <td>2.000000e+00</td>\n",
       "      <td>1.144800e+02</td>\n",
       "      <td>0.000000e+00</td>\n",
       "      <td>0.000000e+00</td>\n",
       "    </tr>\n",
       "    <tr>\n",
       "      <th>50%</th>\n",
       "      <td>1.003100e+10</td>\n",
       "      <td>4.000000e+00</td>\n",
       "      <td>5.715850e+02</td>\n",
       "      <td>0.000000e+00</td>\n",
       "      <td>0.000000e+00</td>\n",
       "      <td>4.000000e+00</td>\n",
       "      <td>5.686500e+02</td>\n",
       "      <td>0.000000e+00</td>\n",
       "      <td>0.000000e+00</td>\n",
       "    </tr>\n",
       "    <tr>\n",
       "      <th>75%</th>\n",
       "      <td>2.000307e+10</td>\n",
       "      <td>7.000000e+00</td>\n",
       "      <td>1.716582e+03</td>\n",
       "      <td>1.000000e+00</td>\n",
       "      <td>0.000000e+00</td>\n",
       "      <td>7.000000e+00</td>\n",
       "      <td>1.715620e+03</td>\n",
       "      <td>1.000000e+00</td>\n",
       "      <td>0.000000e+00</td>\n",
       "    </tr>\n",
       "    <tr>\n",
       "      <th>max</th>\n",
       "      <td>2.005400e+10</td>\n",
       "      <td>1.210000e+02</td>\n",
       "      <td>5.864171e+04</td>\n",
       "      <td>1.000000e+00</td>\n",
       "      <td>1.000000e+00</td>\n",
       "      <td>1.210000e+02</td>\n",
       "      <td>6.983241e+04</td>\n",
       "      <td>1.000000e+00</td>\n",
       "      <td>1.000000e+00</td>\n",
       "    </tr>\n",
       "  </tbody>\n",
       "</table>\n",
       "</div>"
      ],
      "text/plain": [
       "             serial  no_of_accounts_with_syf_13_march  \\\n",
       "count  1.798798e+06                      1.795398e+06   \n",
       "mean   1.497679e+10                      4.938873e+00   \n",
       "std    5.000029e+09                      3.623405e+00   \n",
       "min    1.000100e+10                      1.000000e+00   \n",
       "25%    1.000400e+10                      2.000000e+00   \n",
       "50%    1.003100e+10                      4.000000e+00   \n",
       "75%    2.000307e+10                      7.000000e+00   \n",
       "max    2.005400e+10                      1.210000e+02   \n",
       "\n",
       "       account_balance_13_march  eservice_ind_13_march  \\\n",
       "count              1.685016e+06           1.798798e+06   \n",
       "mean               1.317626e+03           3.295673e-01   \n",
       "std                1.972779e+03           4.700562e-01   \n",
       "min               -2.559600e+04           0.000000e+00   \n",
       "25%                1.149700e+02           0.000000e+00   \n",
       "50%                5.715850e+02           0.000000e+00   \n",
       "75%                1.716582e+03           1.000000e+00   \n",
       "max                5.864171e+04           1.000000e+00   \n",
       "\n",
       "       auto_pay_enrolled_status_13_march  no_of_accounts_with_syf_18_march  \\\n",
       "count                       1.798798e+06                      1.795396e+06   \n",
       "mean                        2.248835e-02                      4.948396e+00   \n",
       "std                         1.482654e-01                      3.627627e+00   \n",
       "min                         0.000000e+00                      1.000000e+00   \n",
       "25%                         0.000000e+00                      2.000000e+00   \n",
       "50%                         0.000000e+00                      4.000000e+00   \n",
       "75%                         0.000000e+00                      7.000000e+00   \n",
       "max                         1.000000e+00                      1.210000e+02   \n",
       "\n",
       "       account_balance_18_march  eservice_ind_18_march  \\\n",
       "count              1.696969e+06           1.798798e+06   \n",
       "mean               1.317619e+03           3.339997e-01   \n",
       "std                1.979695e+03           4.716397e-01   \n",
       "min               -2.559600e+04           0.000000e+00   \n",
       "25%                1.144800e+02           0.000000e+00   \n",
       "50%                5.686500e+02           0.000000e+00   \n",
       "75%                1.715620e+03           1.000000e+00   \n",
       "max                6.983241e+04           1.000000e+00   \n",
       "\n",
       "       auto_pay_enrolled_status_18_march  \n",
       "count                       1.798798e+06  \n",
       "mean                        2.272240e-02  \n",
       "std                         1.490171e-01  \n",
       "min                         0.000000e+00  \n",
       "25%                         0.000000e+00  \n",
       "50%                         0.000000e+00  \n",
       "75%                         0.000000e+00  \n",
       "max                         1.000000e+00  "
      ]
     },
     "execution_count": 51,
     "metadata": {},
     "output_type": "execute_result"
    }
   ],
   "source": [
    "df.describe()"
   ]
  },
  {
   "cell_type": "code",
   "execution_count": 52,
   "metadata": {},
   "outputs": [
    {
     "data": {
      "text/plain": [
       "Index(['timestamp_call_key', 'retailer_code', 'serial', 'reason', 'mos',\n",
       "       'resolved', 'no_of_accounts_with_syf_13_march',\n",
       "       'account_balance_13_march', 'delinquency_history_13_march',\n",
       "       'account_open_date_13_march', 'account_status_13_march',\n",
       "       'card_activation_status_13_march', 'eservice_ind_13_march',\n",
       "       'ebill_enrolled_status_13_march', 'auto_pay_enrolled_status_13_march',\n",
       "       'no_of_accounts_with_syf_18_march', 'account_balance_18_march',\n",
       "       'delinquency_history_18_march', 'account_open_date_18_march',\n",
       "       'account_status_18_march', 'card_activation_status_18_march',\n",
       "       'eservice_ind_18_march', 'ebill_enrolled_status_18_march',\n",
       "       'auto_pay_enrolled_status_18_march'],\n",
       "      dtype='object')"
      ]
     },
     "execution_count": 52,
     "metadata": {},
     "output_type": "execute_result"
    }
   ],
   "source": [
    "df.columns"
   ]
  },
  {
   "cell_type": "markdown",
   "metadata": {},
   "source": [
    "### Section 1: Pre-Processing"
   ]
  },
  {
   "cell_type": "markdown",
   "metadata": {},
   "source": [
    "Step 1: We will converting all retailer_codes to uppercase format since 1 csv file has all codes in uppercase and the other csv file has it in lowercase. This is likely an error in the dataset"
   ]
  },
  {
   "cell_type": "code",
   "execution_count": 53,
   "metadata": {},
   "outputs": [],
   "source": [
    "df['retailer_code'] = df['retailer_code'].str.upper()"
   ]
  },
  {
   "cell_type": "markdown",
   "metadata": {},
   "source": [
    "Step 2: There are a lot of mos values which mean the same thing, but are represented with different codes. They are:\n",
    "1.   DP                               Disputes\n",
    "2.   DS                               Disputes\n",
    "3.    \n",
    "4.    PR                                Privacy\n",
    "5.    PV                                Privacy\n",
    "6.    \n",
    "7.    RV                               Recovery\n",
    "8.    CC                               Recovery\n",
    "9.    \n",
    "10.   Ls                     Report lost stolen\n",
    "11.   LS                     Report lost stolen\n",
    "12.   \n",
    "13.  MR                    SMS Account Summary\n",
    "14.  TA                    SMS Account Summary\n",
    "15.  TS                    SMS Account Summary\n",
    "16.  \n",
    "17.  Tf                    SMS Flip Activation\n",
    "18.  TF                    SMS Flip Activation\n",
    "19.  \n",
    "20.  TR                               Transfer\n",
    "21.  ss                               Transfer\n",
    "22.  \n",
    "23.   ER                  eService Registration\n",
    "24.   eR                  eService Registration"
   ]
  },
  {
   "cell_type": "code",
   "execution_count": 54,
   "metadata": {},
   "outputs": [],
   "source": [
    "code_mapping = {\n",
    "    'DS': 'DP', 'PV': 'PR', 'CC': 'RV', 'Ls': 'LS',\n",
    "    'TA': 'TS', 'MR': 'TS', 'Tf': 'TF', 'ss': 'TR', 'eR': 'ER'\n",
    "}\n",
    "\n",
    "def normalize_codes(mos_string):\n",
    "    codes = mos_string.split()\n",
    "    normalized_codes = [code_mapping.get(code, code) for code in codes]\n",
    "    return ' '.join(normalized_codes)\n",
    "\n",
    "df['mos'] = df['mos'].apply(normalize_codes)"
   ]
  },
  {
   "cell_type": "markdown",
   "metadata": {},
   "source": [
    "Checking for any missing values"
   ]
  },
  {
   "cell_type": "code",
   "execution_count": 55,
   "metadata": {},
   "outputs": [
    {
     "name": "stdout",
     "output_type": "stream",
     "text": [
      "Null/Empty counts for each column:\n",
      "timestamp_call_key                         0\n",
      "retailer_code                              0\n",
      "serial                                     0\n",
      "reason                                     0\n",
      "mos                                        0\n",
      "resolved                                   0\n",
      "no_of_accounts_with_syf_13_march        3400\n",
      "account_balance_13_march              113782\n",
      "delinquency_history_13_march               0\n",
      "account_open_date_13_march                 0\n",
      "account_status_13_march              1732768\n",
      "card_activation_status_13_march            0\n",
      "eservice_ind_13_march                      0\n",
      "ebill_enrolled_status_13_march          4936\n",
      "auto_pay_enrolled_status_13_march          0\n",
      "no_of_accounts_with_syf_18_march        3402\n",
      "account_balance_18_march              101829\n",
      "delinquency_history_18_march               0\n",
      "account_open_date_18_march                 0\n",
      "account_status_18_march              1703450\n",
      "card_activation_status_18_march            0\n",
      "eservice_ind_18_march                      0\n",
      "ebill_enrolled_status_18_march          6758\n",
      "auto_pay_enrolled_status_18_march          0\n",
      "dtype: int64\n"
     ]
    }
   ],
   "source": [
    "null_counts = df.isnull().sum()\n",
    "print(\"Null/Empty counts for each column:\")\n",
    "print(null_counts)"
   ]
  },
  {
   "cell_type": "markdown",
   "metadata": {},
   "source": [
    "Step 3: We wanted to check if any additional mapping can be done for the other columns namely 'ebill_enrolled_status_13_march' 'card_activation_status_13_march','account_status_13_march and the same for the 18th march\n"
   ]
  },
  {
   "cell_type": "code",
   "execution_count": 56,
   "metadata": {},
   "outputs": [],
   "source": [
    "#making the mappings \n",
    "df['ebill_enrolled_status_13_march'] = df['ebill_enrolled_status_13_march'].fillna('N').replace({' ': 'N', 'D': 'B', 'L': 'B'})\n",
    "df['ebill_enrolled_status_18_march'] = df['ebill_enrolled_status_18_march'].fillna('N').replace({' ': 'N', 'D': 'B', 'L': 'B'})\n",
    "df['card_activation_status_13_march'] = df['card_activation_status_13_march'].fillna('1').replace({' ': '1'})\n",
    "df['card_activation_status_18_march'] = df['card_activation_status_18_march'].fillna('1').replace({' ': '1'})\n",
    "df['account_status_13_march'] = df['account_status_13_march'].fillna('N').replace({'E': 'C', 'F': 'C', 'I': 'C', 'Z': 'C'})\n",
    "df['account_status_18_march'] = df['account_status_18_march'].fillna('N').replace({'E': 'C', 'F': 'C', 'I': 'C', 'Z': 'C'})"
   ]
  },
  {
   "cell_type": "markdown",
   "metadata": {},
   "source": [
    "Step 4: Creating two columns, date of the call and the time of the call based on the timestamp key column"
   ]
  },
  {
   "cell_type": "code",
   "execution_count": 57,
   "metadata": {},
   "outputs": [],
   "source": [
    "def parse_datetime(s):\n",
    "    datetime_part = s.split()[0]\n",
    "    date_part = datetime_part[:6]\n",
    "    time_part = datetime_part[6:]\n",
    "    date_parsed = datetime.strptime(date_part, '%y%m%d').date()\n",
    "    time_parsed = datetime.strptime(time_part, '%H%M%S').time()\n",
    "    date_str = date_parsed.strftime('%m/%d/%Y')\n",
    "    return date_str, time_parsed\n",
    "\n",
    "df['date_of_call'], df['time_of_call'] = zip(*df['timestamp_call_key'].apply(parse_datetime))"
   ]
  },
  {
   "cell_type": "markdown",
   "metadata": {},
   "source": [
    "Checking for missing values"
   ]
  },
  {
   "cell_type": "code",
   "execution_count": 58,
   "metadata": {},
   "outputs": [
    {
     "name": "stdout",
     "output_type": "stream",
     "text": [
      "Null/Empty counts for each column:\n",
      "timestamp_call_key                        0\n",
      "retailer_code                             0\n",
      "serial                                    0\n",
      "reason                                    0\n",
      "mos                                       0\n",
      "resolved                                  0\n",
      "no_of_accounts_with_syf_13_march       3400\n",
      "account_balance_13_march             113782\n",
      "delinquency_history_13_march              0\n",
      "account_open_date_13_march                0\n",
      "account_status_13_march                   0\n",
      "card_activation_status_13_march           0\n",
      "eservice_ind_13_march                     0\n",
      "ebill_enrolled_status_13_march            0\n",
      "auto_pay_enrolled_status_13_march         0\n",
      "no_of_accounts_with_syf_18_march       3402\n",
      "account_balance_18_march             101829\n",
      "delinquency_history_18_march              0\n",
      "account_open_date_18_march                0\n",
      "account_status_18_march                   0\n",
      "card_activation_status_18_march           0\n",
      "eservice_ind_18_march                     0\n",
      "ebill_enrolled_status_18_march            0\n",
      "auto_pay_enrolled_status_18_march         0\n",
      "date_of_call                              0\n",
      "time_of_call                              0\n",
      "dtype: int64\n"
     ]
    }
   ],
   "source": [
    "null_counts = df.isnull().sum()\n",
    "print(\"Null/Empty counts for each column:\")\n",
    "print(null_counts)"
   ]
  },
  {
   "cell_type": "markdown",
   "metadata": {},
   "source": [
    "Step 5: There are instances where we noticed that it has been shown to have a resolution of floor but then TR is not given in mos since the data has been cut off for a particular limit as mentioned by the mentors"
   ]
  },
  {
   "cell_type": "code",
   "execution_count": 59,
   "metadata": {},
   "outputs": [
    {
     "name": "stdout",
     "output_type": "stream",
     "text": [
      "Number of rows where resolved = 'floor' and mos does not end with 'TR' before updating: 16140\n",
      "Number of rows where resolved = 'floor' and mos does not end with 'TR' after updating: 0\n"
     ]
    }
   ],
   "source": [
    "count_before = df[(df['resolved'] == 'floor') & (~df['mos'].str.endswith('TR'))].shape[0]\n",
    "mask = (df['resolved'] == 'floor') & (~df['mos'].str.endswith('TR'))\n",
    "df.loc[mask, 'mos'] = df.loc[mask, 'mos'] + ' TR'\n",
    "count_after = df[(df['resolved'] == 'floor') & (~df['mos'].str.endswith('TR'))].shape[0]\n",
    "\n",
    "print(\"Number of rows where resolved = 'floor' and mos does not end with 'TR' before updating:\", count_before)\n",
    "print(\"Number of rows where resolved = 'floor' and mos does not end with 'TR' after updating:\", count_after)"
   ]
  },
  {
   "cell_type": "markdown",
   "metadata": {},
   "source": [
    "### Section 2: EDA"
   ]
  },
  {
   "cell_type": "markdown",
   "metadata": {},
   "source": [
    "### Section 2.1: Reasons and floor percentage \n",
    "\n",
    "Here, we look into the reasons where the floor percentage is high but weighted based on the number of occurences of the reason as well"
   ]
  },
  {
   "cell_type": "code",
   "execution_count": 29,
   "metadata": {},
   "outputs": [
    {
     "name": "stdout",
     "output_type": "stream",
     "text": [
      "Chi-squared: 511699.3808419985\n",
      "P-value: 0.0\n"
     ]
    }
   ],
   "source": [
    "import pandas as pd\n",
    "from scipy.stats import chi2_contingency\n",
    "\n",
    "# Assuming 'df' is your DataFrame with 'reason' and 'resolved' columns\n",
    "\n",
    "# Create a contingency table\n",
    "contingency_table = pd.crosstab(df['reason'], df['resolved'])\n",
    "\n",
    "# Perform the chi-squared test for independence\n",
    "chi2, p, dof, expected = chi2_contingency(contingency_table)\n",
    "\n",
    "# Display the results\n",
    "print(\"Chi-squared:\", chi2)\n",
    "print(\"P-value:\", p)\n"
   ]
  },
  {
   "cell_type": "code",
   "execution_count": 36,
   "metadata": {},
   "outputs": [
    {
     "data": {
      "image/png": "[encoded data removed]",
      "text/plain": [
       "<Figure size 1000x800 with 2 Axes>"
      ]
     },
     "metadata": {},
     "output_type": "display_data"
    }
   ],
   "source": [
    "\n",
    "# Create dummy variables for each unique reason\n",
    "reason_dummies = pd.get_dummies(df['reason'])\n",
    "\n",
    "# Convert 'resolved' column to binary (0 and 1)\n",
    "df['resolved_binary'] = df['resolved'].map({'resolved': 0, 'floor': 1})\n",
    "\n",
    "# Concatenate reason dummies with the binary 'resolved' column\n",
    "data_combined = pd.concat([reason_dummies, df['resolved_binary']], axis=1)\n",
    "\n",
    "# Compute the correlation matrix\n",
    "correlation_matrix = data_combined.corr()\n",
    "\n",
    "# Plot the heatmap\n",
    "plt.figure(figsize=(10, 8))\n",
    "sns.heatmap(correlation_matrix, cmap='coolwarm', fmt=\".2f\")\n",
    "plt.title('Correlation Matrix')\n",
    "plt.show()"
   ]
  },
  {
   "cell_type": "code",
   "execution_count": 38,
   "metadata": {},
   "outputs": [
    {
     "name": "stdout",
     "output_type": "stream",
     "text": [
      "Reason: BA, Weighted Percentage: 8.81%, Floor Percentage: 27.97%, Total Cases: 566351\n",
      "Reason: PP, Weighted Percentage: 1.87%, Floor Percentage: 4.95%, Total Cases: 678314\n",
      "Reason: CT, Weighted Percentage: 1.28%, Floor Percentage: 97.00%, Total Cases: 23796\n",
      "Reason: PT, Weighted Percentage: 1.02%, Floor Percentage: 8.26%, Total Cases: 221583\n",
      "Reason: AA, Weighted Percentage: 0.84%, Floor Percentage: 27.50%, Total Cases: 54861\n",
      "Reason: wa, Weighted Percentage: 0.74%, Floor Percentage: 92.67%, Total Cases: 14296\n",
      "Reason: FD, Weighted Percentage: 0.69%, Floor Percentage: 95.90%, Total Cases: 13007\n",
      "Reason: LS, Weighted Percentage: 0.53%, Floor Percentage: 68.88%, Total Cases: 13765\n",
      "Reason: AT, Weighted Percentage: 0.48%, Floor Percentage: 9.50%, Total Cases: 91404\n",
      "Reason: LC, Weighted Percentage: 0.42%, Floor Percentage: 75.25%, Total Cases: 10076\n",
      "Reason: DP, Weighted Percentage: 0.38%, Floor Percentage: 98.53%, Total Cases: 6930\n",
      "Reason: mp, Weighted Percentage: 0.30%, Floor Percentage: 71.26%, Total Cases: 7614\n",
      "Reason: Pd, Weighted Percentage: 0.27%, Floor Percentage: 68.21%, Total Cases: 7125\n",
      "Reason: AP, Weighted Percentage: 0.25%, Floor Percentage: 67.48%, Total Cases: 6729\n",
      "Reason: FM, Weighted Percentage: 0.25%, Floor Percentage: 93.69%, Total Cases: 4755\n",
      "Reason: IC, Weighted Percentage: 0.23%, Floor Percentage: 46.62%, Total Cases: 8911\n",
      "Reason: IA, Weighted Percentage: 0.21%, Floor Percentage: 49.89%, Total Cases: 7617\n",
      "Reason: RV, Weighted Percentage: 0.19%, Floor Percentage: 93.00%, Total Cases: 3756\n",
      "Reason: WA, Weighted Percentage: 0.17%, Floor Percentage: 61.34%, Total Cases: 4910\n",
      "Reason: RC, Weighted Percentage: 0.16%, Floor Percentage: 67.31%, Total Cases: 4185\n",
      "Reason: mn, Weighted Percentage: 0.16%, Floor Percentage: 69.56%, Total Cases: 4028\n",
      "Reason: me, Weighted Percentage: 0.11%, Floor Percentage: 89.91%, Total Cases: 2150\n",
      "Reason: iR, Weighted Percentage: 0.10%, Floor Percentage: 81.17%, Total Cases: 2162\n",
      "Reason: GA, Weighted Percentage: 0.07%, Floor Percentage: 65.82%, Total Cases: 2042\n",
      "Reason: PA, Weighted Percentage: 0.07%, Floor Percentage: 48.85%, Total Cases: 2608\n",
      "Reason: iL, Weighted Percentage: 0.06%, Floor Percentage: 54.85%, Total Cases: 2071\n",
      "Reason: eL, Weighted Percentage: 0.06%, Floor Percentage: 68.64%, Total Cases: 1642\n",
      "Reason: PS, Weighted Percentage: 0.06%, Floor Percentage: 60.50%, Total Cases: 1772\n",
      "Reason: eY, Weighted Percentage: 0.05%, Floor Percentage: 82.89%, Total Cases: 1192\n",
      "Reason: CA, Weighted Percentage: 0.05%, Floor Percentage: 13.80%, Total Cases: 5920\n",
      "Reason: PI, Weighted Percentage: 0.04%, Floor Percentage: 22.89%, Total Cases: 3447\n",
      "Reason: MP, Weighted Percentage: 0.04%, Floor Percentage: 50.77%, Total Cases: 1503\n",
      "Reason: DR, Weighted Percentage: 0.04%, Floor Percentage: 49.28%, Total Cases: 1524\n",
      "Reason: RP, Weighted Percentage: 0.04%, Floor Percentage: 30.41%, Total Cases: 2443\n",
      "Reason: SR, Weighted Percentage: 0.04%, Floor Percentage: 63.18%, Total Cases: 1070\n",
      "Reason: PC, Weighted Percentage: 0.04%, Floor Percentage: 87.62%, Total Cases: 743\n",
      "Reason: SP, Weighted Percentage: 0.03%, Floor Percentage: 20.90%, Total Cases: 2694\n",
      "Reason: eP, Weighted Percentage: 0.03%, Floor Percentage: 65.15%, Total Cases: 769\n",
      "Reason: eA, Weighted Percentage: 0.03%, Floor Percentage: 66.14%, Total Cases: 697\n",
      "Reason: RI, Weighted Percentage: 0.03%, Floor Percentage: 51.89%, Total Cases: 873\n",
      "Reason: CD, Weighted Percentage: 0.02%, Floor Percentage: 82.18%, Total Cases: 477\n",
      "Reason: FR, Weighted Percentage: 0.02%, Floor Percentage: 25.14%, Total Cases: 1273\n",
      "Reason: DE, Weighted Percentage: 0.02%, Floor Percentage: 97.52%, Total Cases: 282\n",
      "Reason: CB, Weighted Percentage: 0.01%, Floor Percentage: 6.93%, Total Cases: 3694\n",
      "Reason: eR, Weighted Percentage: 0.01%, Floor Percentage: 71.76%, Total Cases: 255\n",
      "Reason: BL, Weighted Percentage: 0.01%, Floor Percentage: 87.93%, Total Cases: 174\n",
      "Reason: iM, Weighted Percentage: 0.01%, Floor Percentage: 54.88%, Total Cases: 215\n",
      "Reason: mP, Weighted Percentage: 0.01%, Floor Percentage: 55.06%, Total Cases: 178\n",
      "Reason: RS, Weighted Percentage: 0.00%, Floor Percentage: 100.00%, Total Cases: 72\n",
      "Reason: FI, Weighted Percentage: 0.00%, Floor Percentage: 40.23%, Total Cases: 174\n",
      "Reason: CS, Weighted Percentage: 0.00%, Floor Percentage: 97.18%, Total Cases: 71\n",
      "Reason: VA, Weighted Percentage: 0.00%, Floor Percentage: 82.93%, Total Cases: 82\n",
      "Reason: iA, Weighted Percentage: 0.00%, Floor Percentage: 68.97%, Total Cases: 87\n",
      "Reason: LW, Weighted Percentage: 0.00%, Floor Percentage: 98.28%, Total Cases: 58\n",
      "Reason: iP, Weighted Percentage: 0.00%, Floor Percentage: 93.02%, Total Cases: 43\n",
      "Reason: iS, Weighted Percentage: 0.00%, Floor Percentage: 96.43%, Total Cases: 28\n",
      "Reason: eB, Weighted Percentage: 0.00%, Floor Percentage: 48.15%, Total Cases: 27\n",
      "Reason: m-, Weighted Percentage: 0.00%, Floor Percentage: 72.22%, Total Cases: 18\n",
      "Reason: AU, Weighted Percentage: 0.00%, Floor Percentage: 56.25%, Total Cases: 16\n",
      "Reason: iF, Weighted Percentage: 0.00%, Floor Percentage: 66.67%, Total Cases: 12\n",
      "Reason: OB, Weighted Percentage: 0.00%, Floor Percentage: 53.85%, Total Cases: 13\n",
      "Reason: eS, Weighted Percentage: 0.00%, Floor Percentage: 66.67%, Total Cases: 9\n",
      "Reason: mt, Weighted Percentage: 0.00%, Floor Percentage: 60.00%, Total Cases: 5\n",
      "Reason: NU, Weighted Percentage: 0.00%, Floor Percentage: 100.00%, Total Cases: 2\n",
      "Reason: ss, Weighted Percentage: 0.00%, Floor Percentage: 100.00%, Total Cases: 1\n",
      "Reason: HI, Weighted Percentage: 0.00%, Floor Percentage: 100.00%, Total Cases: 1\n",
      "Reason: mo, Weighted Percentage: 0.00%, Floor Percentage: 100.00%, Total Cases: 1\n",
      "Reason: iT, Weighted Percentage: 0.00%, Floor Percentage: 50.00%, Total Cases: 2\n",
      "Reason: mm, Weighted Percentage: 0.00%, Floor Percentage: 0.00%, Total Cases: 1\n",
      "Reason: iO, Weighted Percentage: 0.00%, Floor Percentage: 0.00%, Total Cases: 18\n",
      "Reason: VP, Weighted Percentage: 0.00%, Floor Percentage: 0.00%, Total Cases: 61\n",
      "Reason: ER, Weighted Percentage: 0.00%, Floor Percentage: 0.00%, Total Cases: 107\n",
      "Reason: Ls, Weighted Percentage: 0.00%, Floor Percentage: 0.00%, Total Cases: 6\n"
     ]
    }
   ],
   "source": [
    "# Create a set of unique reasons\n",
    "unique_reasons = set(df['reason'])\n",
    "\n",
    "# Dictionary to store floor percentages and total occurrences for each reason\n",
    "reason_statistics = {}\n",
    "\n",
    "# Calculate floor percentages and total occurrences for each reason\n",
    "for reason in unique_reasons:\n",
    "    reason_df = df[df['reason'] == reason]\n",
    "    total_cases = len(reason_df)\n",
    "    floor_count = (reason_df['resolved'] == 'floor').sum()\n",
    "    floor_percentage = (floor_count / total_cases) * 100\n",
    "    weighted_percentage = (floor_count / total_cases) * 100 * (total_cases / len(df))\n",
    "    reason_statistics[reason] = {'Floor Percentage': floor_percentage, 'Weighted Percentage': weighted_percentage, 'Total Cases': total_cases}\n",
    "    \n",
    "# Sort weighted percentages from highest to lowest\n",
    "sorted_reason_statistics = sorted(reason_statistics.items(), key=lambda x: x[1]['Weighted Percentage'], reverse=True)\n",
    "\n",
    "# Print sorted weighted percentages along with the total occurrences\n",
    "for reason, stats in sorted_reason_statistics:\n",
    "    print(f\"Reason: {reason}, Weighted Percentage: {stats['Weighted Percentage']:.2f}%, Floor Percentage: {stats['Floor Percentage']:.2f}%, Total Cases: {stats['Total Cases']}\")\n"
   ]
  },
  {
   "cell_type": "markdown",
   "metadata": {},
   "source": [
    "Here, Since we know about BA and PP already, we will ignore those two, instead lets look at the following intresting ones with high floor percentages with a cut off of 0.5% atleast in weighted percentage: CT, FD, wa, LC, LS"
   ]
  },
  {
   "cell_type": "markdown",
   "metadata": {},
   "source": [
    "### Section 2.2: Looking into Serial Callers\n",
    "\n",
    "Here, in this section, we want to see if there are cases where a customer has called back multiple times. This can be done by cross checking with the serial column which has the account number. \n",
    "\n",
    "Serial callers are looked at on a daily basis. Thus, for the purposes of this project, we set the threshold that if a caller has called more than 4 times in one day, they will be classified as a serial caller. Here, we will do a day by day analysis overlooking March 13th since March 13th considers the time only from 11pm to 11:59pm whereas the rest of the days cover 24 hour data\n"
   ]
  },
  {
   "cell_type": "code",
   "execution_count": 46,
   "metadata": {},
   "outputs": [
    {
     "name": "stdout",
     "output_type": "stream",
     "text": [
      "                             min                 max\n",
      "date_of_call                                        \n",
      "03/13/2024   2024-03-13 23:55:39 2024-03-13 23:59:59\n",
      "03/14/2024   2024-03-14 00:00:01 2024-03-14 23:59:59\n",
      "03/15/2024   2024-03-15 00:00:00 2024-03-15 23:59:59\n",
      "03/16/2024   2024-03-16 00:00:00 2024-03-16 23:59:59\n",
      "03/17/2024   2024-03-17 00:00:00 2024-03-17 23:59:16\n"
     ]
    }
   ],
   "source": [
    "df['timestamp'] = pd.to_datetime(df['date_of_call'] + ' ' + df['time_of_call'].astype(str))\n",
    "min_max_times = df.groupby('date_of_call')['timestamp'].agg(['min', 'max'])\n",
    "print(min_max_times)"
   ]
  },
  {
   "cell_type": "code",
   "execution_count": 47,
   "metadata": {},
   "outputs": [
    {
     "name": "stdout",
     "output_type": "stream",
     "text": [
      "530100\n",
      "579683\n",
      "384879\n",
      "303933\n"
     ]
    }
   ],
   "source": [
    "#Splitting the datafram based on the date\n",
    "march_14_data = df[df['date_of_call'] == '03/14/2024']\n",
    "print(len(march_14_data))\n",
    "march_15_data = df[df['date_of_call'] == '03/15/2024']\n",
    "print(len(march_15_data))\n",
    "march_16_data = df[df['date_of_call'] == '03/16/2024']\n",
    "print(len(march_16_data))\n",
    "march_17_data = df[df['date_of_call'] == '03/17/2024']\n",
    "print(len(march_17_data))"
   ]
  },
  {
   "cell_type": "code",
   "execution_count": 62,
   "metadata": {},
   "outputs": [
    {
     "name": "stdout",
     "output_type": "stream",
     "text": [
      "14 march\n",
      "count\n",
      "2     40674\n",
      "3      5607\n",
      "4      1131\n",
      "5       284\n",
      "6        78\n",
      "7        35\n",
      "8        18\n",
      "9        13\n",
      "10        2\n",
      "11        1\n",
      "12        2\n",
      "24        1\n",
      "Name: count, dtype: int64\n",
      "15 march\n",
      "count\n",
      "2     44557\n",
      "3      6236\n",
      "4      1249\n",
      "5       286\n",
      "6        98\n",
      "7        25\n",
      "8        14\n",
      "9         6\n",
      "10        3\n",
      "11        3\n",
      "12        2\n",
      "14        1\n",
      "17        1\n",
      "19        1\n",
      "20        1\n",
      "Name: count, dtype: int64\n",
      "16 march\n",
      "count\n",
      "2     28761\n",
      "3      3984\n",
      "4       787\n",
      "5       197\n",
      "6        56\n",
      "7        25\n",
      "8         8\n",
      "9         3\n",
      "10        3\n",
      "12        1\n",
      "13        1\n",
      "14        1\n",
      "Name: count, dtype: int64\n",
      "17 march\n",
      "count\n",
      "2     22253\n",
      "3      2897\n",
      "4       557\n",
      "5       148\n",
      "6        54\n",
      "7        11\n",
      "8         9\n",
      "9         4\n",
      "10        1\n",
      "11        1\n",
      "13        1\n",
      "14        1\n",
      "16        2\n",
      "Name: count, dtype: int64\n"
     ]
    }
   ],
   "source": [
    "# Count the occurrences of each count\n",
    "# Count occurrences of each serial\n",
    "serial_counts = march_14_data['serial'].value_counts()\n",
    "serialcaller = serial_counts[serial_counts > 1]\n",
    "occurrence_counts_14 = serialcaller.value_counts().sort_index()\n",
    "print(\"14 march\")\n",
    "print(occurrence_counts_14)\n",
    "\n",
    "serial_counts = march_15_data['serial'].value_counts()\n",
    "serialcaller = serial_counts[serial_counts > 1]\n",
    "occurrence_counts_15 = serialcaller.value_counts().sort_index()\n",
    "print(\"15 march\")\n",
    "print(occurrence_counts_15)\n",
    "\n",
    "serial_counts = march_16_data['serial'].value_counts()\n",
    "serialcaller = serial_counts[serial_counts > 1]\n",
    "occurrence_counts_16 = serialcaller.value_counts().sort_index()\n",
    "print(\"16 march\")\n",
    "print(occurrence_counts_16)\n",
    "\n",
    "serial_counts = march_17_data['serial'].value_counts()\n",
    "serialcaller = serial_counts[serial_counts > 1]\n",
    "occurrence_counts_17 = serialcaller.value_counts().sort_index()\n",
    "print(\"17 march\")\n",
    "print(occurrence_counts_17)"
   ]
  },
  {
   "cell_type": "markdown",
   "metadata": {},
   "source": [
    "Here, we will now set the threshold as the serial_counts as more than 4 and then, assign a new column called serial_caller which has either 0 or 1 based on the number of occurences of the serial number"
   ]
  },
  {
   "cell_type": "code",
   "execution_count": 63,
   "metadata": {},
   "outputs": [
    {
     "name": "stderr",
     "output_type": "stream",
     "text": [
      "/var/folders/g9/5jyvjr4j7lv1y3yc8kjj9fr80000gn/T/ipykernel_40647/2353025293.py:8: SettingWithCopyWarning: \n",
      "A value is trying to be set on a copy of a slice from a DataFrame.\n",
      "Try using .loc[row_indexer,col_indexer] = value instead\n",
      "\n",
      "See the caveats in the documentation: https://pandas.pydata.org/pandas-docs/stable/user_guide/indexing.html#returning-a-view-versus-a-copy\n",
      "  march_14_data['serial_caller'] = march_14_data['serial'].map(lambda x: 1 if serial_counts_14.get(x, 0) > 4 else 0)\n",
      "/var/folders/g9/5jyvjr4j7lv1y3yc8kjj9fr80000gn/T/ipykernel_40647/2353025293.py:9: SettingWithCopyWarning: \n",
      "A value is trying to be set on a copy of a slice from a DataFrame.\n",
      "Try using .loc[row_indexer,col_indexer] = value instead\n",
      "\n",
      "See the caveats in the documentation: https://pandas.pydata.org/pandas-docs/stable/user_guide/indexing.html#returning-a-view-versus-a-copy\n",
      "  march_15_data['serial_caller'] = march_15_data['serial'].map(lambda x: 1 if serial_counts_15.get(x, 0) > 4 else 0)\n",
      "/var/folders/g9/5jyvjr4j7lv1y3yc8kjj9fr80000gn/T/ipykernel_40647/2353025293.py:10: SettingWithCopyWarning: \n",
      "A value is trying to be set on a copy of a slice from a DataFrame.\n",
      "Try using .loc[row_indexer,col_indexer] = value instead\n",
      "\n",
      "See the caveats in the documentation: https://pandas.pydata.org/pandas-docs/stable/user_guide/indexing.html#returning-a-view-versus-a-copy\n",
      "  march_16_data['serial_caller'] = march_16_data['serial'].map(lambda x: 1 if serial_counts_16.get(x, 0) > 4 else 0)\n"
     ]
    },
    {
     "name": "stdout",
     "output_type": "stream",
     "text": [
      "March 14th:\n",
      "serial_caller\n",
      "0    527627\n",
      "1      2473\n",
      "Name: count, dtype: int64\n",
      "March 15th:\n",
      "serial_caller\n",
      "0    577167\n",
      "1      2516\n",
      "Name: count, dtype: int64\n",
      "March 16th:\n",
      "serial_caller\n",
      "0    383223\n",
      "1      1656\n",
      "Name: count, dtype: int64\n",
      "March 17th:\n",
      "serial_caller\n",
      "0    302604\n",
      "1      1329\n",
      "Name: count, dtype: int64\n"
     ]
    },
    {
     "name": "stderr",
     "output_type": "stream",
     "text": [
      "/var/folders/g9/5jyvjr4j7lv1y3yc8kjj9fr80000gn/T/ipykernel_40647/2353025293.py:11: SettingWithCopyWarning: \n",
      "A value is trying to be set on a copy of a slice from a DataFrame.\n",
      "Try using .loc[row_indexer,col_indexer] = value instead\n",
      "\n",
      "See the caveats in the documentation: https://pandas.pydata.org/pandas-docs/stable/user_guide/indexing.html#returning-a-view-versus-a-copy\n",
      "  march_17_data['serial_caller'] = march_17_data['serial'].map(lambda x: 1 if serial_counts_17.get(x, 0) > 4 else 0)\n"
     ]
    }
   ],
   "source": [
    "# Count the occurrences of each serial number for each day\n",
    "serial_counts_14 = march_14_data['serial'].value_counts()\n",
    "serial_counts_15 = march_15_data['serial'].value_counts()\n",
    "serial_counts_16 = march_16_data['serial'].value_counts()\n",
    "serial_counts_17 = march_17_data['serial'].value_counts()\n",
    "\n",
    "# Assign a new column 'serial_caller' based on the 4\n",
    "march_14_data['serial_caller'] = march_14_data['serial'].map(lambda x: 1 if serial_counts_14.get(x, 0) > 4 else 0)\n",
    "march_15_data['serial_caller'] = march_15_data['serial'].map(lambda x: 1 if serial_counts_15.get(x, 0) > 4 else 0)\n",
    "march_16_data['serial_caller'] = march_16_data['serial'].map(lambda x: 1 if serial_counts_16.get(x, 0) > 4 else 0)\n",
    "march_17_data['serial_caller'] = march_17_data['serial'].map(lambda x: 1 if serial_counts_17.get(x, 0) > 4 else 0)\n",
    "\n",
    "# Print the results\n",
    "print(\"March 14th:\")\n",
    "print(march_14_data['serial_caller'].value_counts())\n",
    "\n",
    "print(\"March 15th:\")\n",
    "print(march_15_data['serial_caller'].value_counts())\n",
    "\n",
    "print(\"March 16th:\")\n",
    "print(march_16_data['serial_caller'].value_counts())\n",
    "\n",
    "print(\"March 17th:\")\n",
    "print(march_17_data['serial_caller'].value_counts())"
   ]
  },
  {
   "cell_type": "markdown",
   "metadata": {},
   "source": [
    "There are more number of calls on 14th and 15th march (Which is Thrusday and Friday). Completely unrelated fact but this was also the same day that the annual report dropped on 15th which was the synchrony financial report. Intresting fact!"
   ]
  },
  {
   "cell_type": "code",
   "execution_count": 64,
   "metadata": {},
   "outputs": [
    {
     "name": "stdout",
     "output_type": "stream",
     "text": [
      "0.46651575174495374\n",
      "0.43403032346989645\n",
      "0.430265096302994\n",
      "0.4372674240704366\n"
     ]
    }
   ],
   "source": [
    "def calculate_serial_caller_percentage(df):\n",
    "    total_cases = len(df)\n",
    "    serial_caller_cases = df[df['serial_caller'] == 1]\n",
    "    serial_caller_count = len(serial_caller_cases)\n",
    "    percentage_serial_callers = (serial_caller_count / total_cases) * 100\n",
    "    print(percentage_serial_callers)\n",
    "\n",
    "\n",
    "calculate_serial_caller_percentage(march_14_data)\n",
    "calculate_serial_caller_percentage(march_15_data)\n",
    "calculate_serial_caller_percentage(march_16_data)\n",
    "calculate_serial_caller_percentage(march_17_data)"
   ]
  },
  {
   "cell_type": "code",
   "execution_count": 65,
   "metadata": {},
   "outputs": [
    {
     "data": {
      "image/png": "[encoded data removed]",
      "text/plain": [
       "<Figure size 1000x600 with 1 Axes>"
      ]
     },
     "metadata": {},
     "output_type": "display_data"
    }
   ],
   "source": [
    "days = ['14 March', '15 March', '16 March', '17 March']\n",
    "occurrences = [occurrence_counts_14, occurrence_counts_15, occurrence_counts_16, occurrence_counts_17]\n",
    "\n",
    "plt.figure(figsize=(10, 6))\n",
    "for day, counts in zip(days, occurrences):\n",
    "    plt.plot(counts.index, counts.values, marker='o', linestyle='-', label=day)\n",
    "\n",
    "plt.title('Distribution of Serial Caller Occurrences')\n",
    "plt.xlabel('Number of Occurrences')\n",
    "plt.ylabel('Count')\n",
    "plt.legend()\n",
    "plt.grid(True)\n",
    "plt.xticks(range(2, max(occurrence_counts_14.index.max(), \n",
    "                        occurrence_counts_15.index.max(), \n",
    "                        occurrence_counts_16.index.max(), \n",
    "                        occurrence_counts_17.index.max()) + 1))\n",
    "plt.show()"
   ]
  },
  {
   "cell_type": "markdown",
   "metadata": {},
   "source": [
    "### Section 2.3: Looking into Delinquency"
   ]
  },
  {
   "cell_type": "code",
   "execution_count": 67,
   "metadata": {},
   "outputs": [
    {
     "data": {
      "text/plain": [
       "delinquency_history_13_march\n",
       "[00]    1660525\n",
       "[20]      63358\n",
       "[02]      54237\n",
       "[22]       6014\n",
       "[32]       4585\n",
       "[03]       3590\n",
       "[43]       1481\n",
       "[54]        743\n",
       "[88]        674\n",
       "[04]        673\n",
       "[23]        576\n",
       "[65]        386\n",
       "[76]        376\n",
       "[08]        260\n",
       "[33]        257\n",
       "[05]        201\n",
       "[44]        149\n",
       "[06]        124\n",
       "[55]         80\n",
       "[07]         80\n",
       "[34]         61\n",
       "[87]         54\n",
       "[24]         48\n",
       "[77]         36\n",
       "[66]         35\n",
       "[45]         30\n",
       "[56]         26\n",
       "[67]         23\n",
       "[46]         17\n",
       "[35]         16\n",
       "[25]         14\n",
       "[47]         11\n",
       "[26]         10\n",
       "[36]         10\n",
       "[78]          9\n",
       "[30]          6\n",
       "[68]          5\n",
       "[27]          4\n",
       "[57]          4\n",
       "[48]          3\n",
       "[37]          3\n",
       "[58]          1\n",
       "[40]          1\n",
       "[53]          1\n",
       "[42]          1\n",
       "Name: count, dtype: int64"
      ]
     },
     "execution_count": 67,
     "metadata": {},
     "output_type": "execute_result"
    }
   ],
   "source": [
    "#counts of the delinquency_history for data wrt 13th March\n",
    "df['delinquency_history_13_march'].value_counts()"
   ]
  },
  {
   "cell_type": "code",
   "execution_count": 68,
   "metadata": {},
   "outputs": [
    {
     "data": {
      "text/plain": [
       "delinquency_history_18_march\n",
       "[00]    1659023\n",
       "[20]      63311\n",
       "[02]      56348\n",
       "[22]       6032\n",
       "[03]       3872\n",
       "[32]       3839\n",
       "[43]       1433\n",
       "[04]        736\n",
       "[54]        706\n",
       "[88]        693\n",
       "[23]        558\n",
       "[65]        344\n",
       "[76]        320\n",
       "[08]        283\n",
       "[05]        242\n",
       "[33]        200\n",
       "[06]        149\n",
       "[44]        142\n",
       "[07]         85\n",
       "[55]         74\n",
       "[24]         53\n",
       "[34]         46\n",
       "[87]         46\n",
       "[56]         31\n",
       "[66]         31\n",
       "[45]         31\n",
       "[77]         29\n",
       "[67]         22\n",
       "[25]         18\n",
       "[46]         14\n",
       "[78]         13\n",
       "[35]         10\n",
       "[47]         10\n",
       "[48]          8\n",
       "[30]          7\n",
       "[57]          6\n",
       "[68]          6\n",
       "[27]          4\n",
       "[58]          4\n",
       "[26]          4\n",
       "[38]          4\n",
       "[37]          4\n",
       "[36]          3\n",
       "[40]          1\n",
       "[53]          1\n",
       "[80]          1\n",
       "[42]          1\n",
       "Name: count, dtype: int64"
      ]
     },
     "execution_count": 68,
     "metadata": {},
     "output_type": "execute_result"
    }
   ],
   "source": [
    "#counts of the delinquency_history for data wrt 18th March\n",
    "df['delinquency_history_18_march'].value_counts()"
   ]
  },
  {
   "cell_type": "code",
   "execution_count": 69,
   "metadata": {},
   "outputs": [],
   "source": [
    "# Split the DataFrame into two parts\n",
    "df_n1 = df.iloc[:, 3:15]  # Data wrt 13th March\n",
    "df_n2 = pd.concat([df.iloc[:, 4:7], df.iloc[:, 17:]], axis=1)  #Data wrt 18th March"
   ]
  },
  {
   "cell_type": "code",
   "execution_count": 70,
   "metadata": {},
   "outputs": [
    {
     "name": "stderr",
     "output_type": "stream",
     "text": [
      "/var/folders/g9/5jyvjr4j7lv1y3yc8kjj9fr80000gn/T/ipykernel_40647/156003586.py:12: SettingWithCopyWarning: \n",
      "A value is trying to be set on a copy of a slice from a DataFrame.\n",
      "Try using .loc[row_indexer,col_indexer] = value instead\n",
      "\n",
      "See the caveats in the documentation: https://pandas.pydata.org/pandas-docs/stable/user_guide/indexing.html#returning-a-view-versus-a-copy\n",
      "  df_filter1['delinquency_history_13_march_changed'] = df_filter1['delinquency_history_13_march'].str.replace('[', '').str.replace(']', '')\n",
      "/var/folders/g9/5jyvjr4j7lv1y3yc8kjj9fr80000gn/T/ipykernel_40647/156003586.py:16: SettingWithCopyWarning: \n",
      "A value is trying to be set on a copy of a slice from a DataFrame.\n",
      "Try using .loc[row_indexer,col_indexer] = value instead\n",
      "\n",
      "See the caveats in the documentation: https://pandas.pydata.org/pandas-docs/stable/user_guide/indexing.html#returning-a-view-versus-a-copy\n",
      "  df_filter1['delinquency_history_13_march_changed'] = df_filter1['delinquency_history_13_march_changed'].astype(str)\n",
      "/var/folders/g9/5jyvjr4j7lv1y3yc8kjj9fr80000gn/T/ipykernel_40647/156003586.py:19: SettingWithCopyWarning: \n",
      "A value is trying to be set on a copy of a slice from a DataFrame.\n",
      "Try using .loc[row_indexer,col_indexer] = value instead\n",
      "\n",
      "See the caveats in the documentation: https://pandas.pydata.org/pandas-docs/stable/user_guide/indexing.html#returning-a-view-versus-a-copy\n",
      "  df_filter1['current'] = df_filter1['delinquency_history_13_march_changed'].str[:-1]\n",
      "/var/folders/g9/5jyvjr4j7lv1y3yc8kjj9fr80000gn/T/ipykernel_40647/156003586.py:20: SettingWithCopyWarning: \n",
      "A value is trying to be set on a copy of a slice from a DataFrame.\n",
      "Try using .loc[row_indexer,col_indexer] = value instead\n",
      "\n",
      "See the caveats in the documentation: https://pandas.pydata.org/pandas-docs/stable/user_guide/indexing.html#returning-a-view-versus-a-copy\n",
      "  df_filter1['previous'] = df_filter1['delinquency_history_13_march_changed'].str[-1]\n"
     ]
    }
   ],
   "source": [
    "#13 March\n",
    "\n",
    "#xcluding bad data wrt 13th March\n",
    "exclude_values = ['[20]', '[24]', '[25]', '[46]', '[35]', '[47]', '[48]', '[57]', '[68]', '[27]', '[58]', '[26]', '[37]', '[36]', '[53]', '[42]', '[30]', '[40]']\n",
    "\n",
    "\n",
    "# Filter out rows with specified values in the \"delinquency_history_13_march_changed\" column\n",
    "df_filter1 = df_n1[~df_n1['delinquency_history_13_march'].isin(exclude_values)]\n",
    "\n",
    "#Removing the sqaure brackets so that it can be further split into individual byte wrt 13th March\n",
    "\n",
    "df_filter1['delinquency_history_13_march_changed'] = df_filter1['delinquency_history_13_march'].str.replace('[', '').str.replace(']', '')\n",
    "df_filter1.head()\n",
    "\n",
    "# Convert numeric column to string type \n",
    "df_filter1['delinquency_history_13_march_changed'] = df_filter1['delinquency_history_13_march_changed'].astype(str)\n",
    "\n",
    "# Split numeric data into two parts\n",
    "df_filter1['current'] = df_filter1['delinquency_history_13_march_changed'].str[:-1]\n",
    "df_filter1['previous'] = df_filter1['delinquency_history_13_march_changed'].str[-1]\n"
   ]
  },
  {
   "cell_type": "code",
   "execution_count": 71,
   "metadata": {},
   "outputs": [
    {
     "name": "stderr",
     "output_type": "stream",
     "text": [
      "/var/folders/g9/5jyvjr4j7lv1y3yc8kjj9fr80000gn/T/ipykernel_40647/4220087027.py:10: SettingWithCopyWarning: \n",
      "A value is trying to be set on a copy of a slice from a DataFrame.\n",
      "Try using .loc[row_indexer,col_indexer] = value instead\n",
      "\n",
      "See the caveats in the documentation: https://pandas.pydata.org/pandas-docs/stable/user_guide/indexing.html#returning-a-view-versus-a-copy\n",
      "  df_filter2['delinquency_history_18_march_changed'] = df_filter2['delinquency_history_18_march'].str.replace('[', '').str.replace(']', '')\n",
      "/var/folders/g9/5jyvjr4j7lv1y3yc8kjj9fr80000gn/T/ipykernel_40647/4220087027.py:13: SettingWithCopyWarning: \n",
      "A value is trying to be set on a copy of a slice from a DataFrame.\n",
      "Try using .loc[row_indexer,col_indexer] = value instead\n",
      "\n",
      "See the caveats in the documentation: https://pandas.pydata.org/pandas-docs/stable/user_guide/indexing.html#returning-a-view-versus-a-copy\n",
      "  df_filter2['delinquency_history_18_march_changed'] = df_filter2['delinquency_history_18_march_changed'].astype(str)\n",
      "/var/folders/g9/5jyvjr4j7lv1y3yc8kjj9fr80000gn/T/ipykernel_40647/4220087027.py:16: SettingWithCopyWarning: \n",
      "A value is trying to be set on a copy of a slice from a DataFrame.\n",
      "Try using .loc[row_indexer,col_indexer] = value instead\n",
      "\n",
      "See the caveats in the documentation: https://pandas.pydata.org/pandas-docs/stable/user_guide/indexing.html#returning-a-view-versus-a-copy\n",
      "  df_filter2['current18th'] = df_filter2['delinquency_history_18_march_changed'].str[:-1]\n",
      "/var/folders/g9/5jyvjr4j7lv1y3yc8kjj9fr80000gn/T/ipykernel_40647/4220087027.py:17: SettingWithCopyWarning: \n",
      "A value is trying to be set on a copy of a slice from a DataFrame.\n",
      "Try using .loc[row_indexer,col_indexer] = value instead\n",
      "\n",
      "See the caveats in the documentation: https://pandas.pydata.org/pandas-docs/stable/user_guide/indexing.html#returning-a-view-versus-a-copy\n",
      "  df_filter2['previous18th'] = df_filter2['delinquency_history_18_march_changed'].str[-1]\n"
     ]
    }
   ],
   "source": [
    "#18 March\n",
    "\n",
    "#Removing the sqaure brackets so that it can be further split into individual byte wrt 18th March\n",
    "\n",
    "exclude_values = ['[20]', '[24]', '[25]', '[46]', '[35]', '[47]', '[48]', '[57]', '[68]', '[27]', '[58]', '[26]', '[38]', '[37]', '[36]', '[53]', '[42]', '[30]', '[80]']\n",
    "\n",
    "# Filter out rows with specified values in the \"delinquency_history_13_march_changed\" column\n",
    "df_filter2 = df_n2[~df_n2['delinquency_history_18_march'].isin(exclude_values)]\n",
    "\n",
    "df_filter2['delinquency_history_18_march_changed'] = df_filter2['delinquency_history_18_march'].str.replace('[', '').str.replace(']', '')\n",
    "\n",
    "# Convert numeric column to string type\n",
    "df_filter2['delinquency_history_18_march_changed'] = df_filter2['delinquency_history_18_march_changed'].astype(str)\n",
    "\n",
    "# Split numeric data into two parts\n",
    "df_filter2['current18th'] = df_filter2['delinquency_history_18_march_changed'].str[:-1]\n",
    "df_filter2['previous18th'] = df_filter2['delinquency_history_18_march_changed'].str[-1]"
   ]
  },
  {
   "cell_type": "code",
   "execution_count": 72,
   "metadata": {},
   "outputs": [
    {
     "name": "stderr",
     "output_type": "stream",
     "text": [
      "/var/folders/g9/5jyvjr4j7lv1y3yc8kjj9fr80000gn/T/ipykernel_40647/2106866124.py:1: SettingWithCopyWarning: \n",
      "A value is trying to be set on a copy of a slice from a DataFrame.\n",
      "Try using .loc[row_indexer,col_indexer] = value instead\n",
      "\n",
      "See the caveats in the documentation: https://pandas.pydata.org/pandas-docs/stable/user_guide/indexing.html#returning-a-view-versus-a-copy\n",
      "  df_filter1['current'] = df_filter1['current'].astype(int)\n",
      "/var/folders/g9/5jyvjr4j7lv1y3yc8kjj9fr80000gn/T/ipykernel_40647/2106866124.py:10: SettingWithCopyWarning: \n",
      "A value is trying to be set on a copy of a slice from a DataFrame.\n",
      "Try using .loc[row_indexer,col_indexer] = value instead\n",
      "\n",
      "See the caveats in the documentation: https://pandas.pydata.org/pandas-docs/stable/user_guide/indexing.html#returning-a-view-versus-a-copy\n",
      "  df_filter1['previous'] = df_filter1['previous'].astype(int)\n"
     ]
    },
    {
     "name": "stdout",
     "output_type": "stream",
     "text": [
      "resolved\n",
      "floor       25273\n",
      "resolved    24936\n",
      "Name: current, dtype: int64\n",
      "resolved\n",
      "floor        47110\n",
      "resolved    122524\n",
      "Name: previous, dtype: int64\n",
      "resolved\n",
      "floor        47837\n",
      "resolved    125137\n",
      "Name: previous18th, dtype: int64\n",
      "resolved\n",
      "floor       23850\n",
      "resolved    22896\n",
      "Name: current18th, dtype: int64\n"
     ]
    },
    {
     "name": "stderr",
     "output_type": "stream",
     "text": [
      "/var/folders/g9/5jyvjr4j7lv1y3yc8kjj9fr80000gn/T/ipykernel_40647/2106866124.py:18: SettingWithCopyWarning: \n",
      "A value is trying to be set on a copy of a slice from a DataFrame.\n",
      "Try using .loc[row_indexer,col_indexer] = value instead\n",
      "\n",
      "See the caveats in the documentation: https://pandas.pydata.org/pandas-docs/stable/user_guide/indexing.html#returning-a-view-versus-a-copy\n",
      "  df_filter2['previous18th'] = df_filter2['previous18th'].astype(int)\n",
      "/var/folders/g9/5jyvjr4j7lv1y3yc8kjj9fr80000gn/T/ipykernel_40647/2106866124.py:26: SettingWithCopyWarning: \n",
      "A value is trying to be set on a copy of a slice from a DataFrame.\n",
      "Try using .loc[row_indexer,col_indexer] = value instead\n",
      "\n",
      "See the caveats in the documentation: https://pandas.pydata.org/pandas-docs/stable/user_guide/indexing.html#returning-a-view-versus-a-copy\n",
      "  df_filter2['current18th'] = df_filter2['current18th'].astype(int)\n"
     ]
    }
   ],
   "source": [
    "df_filter1['current'] = df_filter1['current'].astype(int)\n",
    "\n",
    "#Grouping data to check the resolved and floor values in the current month wrt 13th March\n",
    "\n",
    "grouped_data = df_filter1.groupby('resolved')['current'].sum() \n",
    "print(grouped_data)\n",
    "\n",
    "#Grouping data to check the resolved and floor values in the previous month wrt 13th March\n",
    "\n",
    "df_filter1['previous'] = df_filter1['previous'].astype(int) \n",
    "\n",
    "\n",
    "grouped_data1 = df_filter1.groupby('resolved')['previous'].sum()\n",
    "print(grouped_data1)\n",
    "\n",
    "#Grouping data to check the resolved and floor values in the previous month wrt 18th March\n",
    "\n",
    "df_filter2['previous18th'] = df_filter2['previous18th'].astype(int) \n",
    "\n",
    "\n",
    "grouped_data1 = df_filter2.groupby('resolved')['previous18th'].sum()\n",
    "print(grouped_data1)\n",
    "\n",
    "#Grouping data to check the resolved and floor values in the current month wrt 18th March\n",
    "\n",
    "df_filter2['current18th'] = df_filter2['current18th'].astype(int)\n",
    "\n",
    "\n",
    "grouped_data2 = df_filter2.groupby('resolved')['current18th'].sum()\n",
    "print(grouped_data2)"
   ]
  },
  {
   "cell_type": "markdown",
   "metadata": {},
   "source": [
    "The significant difference in the count of floor and resolved, leads to further explore the data"
   ]
  },
  {
   "cell_type": "code",
   "execution_count": 73,
   "metadata": {},
   "outputs": [
    {
     "name": "stderr",
     "output_type": "stream",
     "text": [
      "/var/folders/g9/5jyvjr4j7lv1y3yc8kjj9fr80000gn/T/ipykernel_40647/2496600930.py:2: SettingWithCopyWarning: \n",
      "A value is trying to be set on a copy of a slice from a DataFrame.\n",
      "Try using .loc[row_indexer,col_indexer] = value instead\n",
      "\n",
      "See the caveats in the documentation: https://pandas.pydata.org/pandas-docs/stable/user_guide/indexing.html#returning-a-view-versus-a-copy\n",
      "  df_filter1['resolved_new'] = df_filter1['resolved'].map({'resolved': 1, 'floor': 0})\n",
      "/var/folders/g9/5jyvjr4j7lv1y3yc8kjj9fr80000gn/T/ipykernel_40647/2496600930.py:3: SettingWithCopyWarning: \n",
      "A value is trying to be set on a copy of a slice from a DataFrame.\n",
      "Try using .loc[row_indexer,col_indexer] = value instead\n",
      "\n",
      "See the caveats in the documentation: https://pandas.pydata.org/pandas-docs/stable/user_guide/indexing.html#returning-a-view-versus-a-copy\n",
      "  df_filter2['resolved_new'] = df_filter2['resolved'].map({'resolved': 1, 'floor': 0})\n"
     ]
    },
    {
     "name": "stdout",
     "output_type": "stream",
     "text": [
      "Mann-Whitney U Test Results:\n",
      "Test Statistic: 244603045959.0\n",
      "P-value: 2.435240273723575e-83\n",
      "Reject the null hypothesis: There is a significant difference between the distributions.\n"
     ]
    }
   ],
   "source": [
    "# Convert string values to numeric binary values\n",
    "df_filter1['resolved_new'] = df_filter1['resolved'].map({'resolved': 1, 'floor': 0})\n",
    "df_filter2['resolved_new'] = df_filter2['resolved'].map({'resolved': 1, 'floor': 0})\n",
    "\n",
    "from scipy.stats import mannwhitneyu\n",
    "# Separate data into two groups based on the binary column\n",
    "group_0 = df_filter1[df_filter1['resolved_new'] == 0]['previous']\n",
    "group_1 = df_filter1[df_filter1['resolved_new'] == 1]['previous']\n",
    "\n",
    "# Perform the Mann-Whitney U test\n",
    "statistic, p_value = mannwhitneyu(group_0, group_1)\n",
    "\n",
    "# Output the results\n",
    "print(\"Mann-Whitney U Test Results:\")\n",
    "print(\"Test Statistic:\", statistic)\n",
    "print(\"P-value:\", p_value)\n",
    "\n",
    "# Interpret the results\n",
    "if p_value < 0.05:\n",
    "    print(\"Reject the null hypothesis: There is a significant difference between the distributions.\")\n",
    "else:\n",
    "    print(\"Fail to reject the null hypothesis: There is no significant difference between the distributions.\")"
   ]
  },
  {
   "cell_type": "code",
   "execution_count": 74,
   "metadata": {},
   "outputs": [
    {
     "name": "stdout",
     "output_type": "stream",
     "text": [
      "Cohen's d: 0.07953835774598869\n"
     ]
    }
   ],
   "source": [
    "#We further check Cohen's coefficient to understand the magnitude\n",
    "\n",
    "# Calculate Cohen's d\n",
    "# Calculate the mean difference between the two groups\n",
    "mean_diff = np.mean(group_0) - np.mean(group_1)\n",
    "\n",
    "# Calculate the pooled standard deviation\n",
    "pooled_std = np.sqrt((np.std(group_0)**2 + np.std(group_1)**2) / 2)\n",
    "\n",
    "# Calculate Cohen's d\n",
    "cohen_d = mean_diff / pooled_std\n",
    "\n",
    "print(\"Cohen's d:\", cohen_d)"
   ]
  },
  {
   "cell_type": "code",
   "execution_count": 75,
   "metadata": {},
   "outputs": [
    {
     "name": "stdout",
     "output_type": "stream",
     "text": [
      "Mann-Whitney U Test Results:\n",
      "Test Statistic: 245385634095.5\n",
      "P-value: 0.0\n",
      "Reject the null hypothesis: There is a significant difference between the distributions.\n"
     ]
    }
   ],
   "source": [
    "# Separate data into two groups based on the binary column\n",
    "group_2 = df_filter1[df_filter1['resolved_new'] == 0]['current']\n",
    "group_3 = df_filter1[df_filter1['resolved_new'] == 1]['current']\n",
    "\n",
    "# Perform the Mann-Whitney U test\n",
    "statistic, p_value = mannwhitneyu(group_2, group_3)\n",
    "\n",
    "# Output the results\n",
    "print(\"Mann-Whitney U Test Results:\")\n",
    "print(\"Test Statistic:\", statistic)\n",
    "print(\"P-value:\", p_value)\n",
    "\n",
    "# Interpret the results\n",
    "if p_value < 0.05:\n",
    "    print(\"Reject the null hypothesis: There is a significant difference between the distributions.\")\n",
    "else:\n",
    "    print(\"Fail to reject the null hypothesis: There is no significant difference between the distributions.\")"
   ]
  },
  {
   "cell_type": "code",
   "execution_count": 76,
   "metadata": {},
   "outputs": [
    {
     "name": "stdout",
     "output_type": "stream",
     "text": [
      "Cohen's d: 0.11907803215789889\n"
     ]
    }
   ],
   "source": [
    "# Calculate the mean difference between the two groups\n",
    "mean_diff = np.mean(group_2) - np.mean(group_3)\n",
    "\n",
    "# Calculate the pooled standard deviation\n",
    "pooled_std = np.sqrt((np.std(group_2)**2 + np.std(group_3)**2) / 2)\n",
    "\n",
    "# Calculate Cohen's d\n",
    "cohen_d = mean_diff / pooled_std\n",
    "\n",
    "print(\"Cohen's d:\", cohen_d)"
   ]
  },
  {
   "cell_type": "code",
   "execution_count": 77,
   "metadata": {},
   "outputs": [
    {
     "name": "stdout",
     "output_type": "stream",
     "text": [
      "Mann-Whitney U Test Results:\n",
      "Test Statistic: 244033698620.5\n",
      "P-value: 6.4036461709479316e-83\n",
      "Reject the null hypothesis: There is a significant difference between the distributions.\n"
     ]
    }
   ],
   "source": [
    "# Separate data into two groups based on the binary column\n",
    "group_4 = df_filter2[df_filter2['resolved_new'] == 0]['previous18th']\n",
    "group_5 = df_filter2[df_filter2['resolved_new'] == 1]['previous18th']\n",
    "\n",
    "# Perform the Mann-Whitney U test\n",
    "statistic, p_value = mannwhitneyu(group_4, group_5)\n",
    "\n",
    "# Output the results\n",
    "print(\"Mann-Whitney U Test Results:\")\n",
    "print(\"Test Statistic:\", statistic)\n",
    "print(\"P-value:\", p_value)\n",
    "\n",
    "# Interpret the results\n",
    "if p_value < 0.05:\n",
    "    print(\"Reject the null hypothesis: There is a significant difference between the distributions.\")\n",
    "else:\n",
    "    print(\"Fail to reject the null hypothesis: There is no significant difference between the distributions.\")"
   ]
  },
  {
   "cell_type": "code",
   "execution_count": 78,
   "metadata": {},
   "outputs": [
    {
     "name": "stdout",
     "output_type": "stream",
     "text": [
      "Cohen's d: 0.0800440571202082\n"
     ]
    }
   ],
   "source": [
    "# Calculate Cohen's d\n",
    "# Calculate the mean difference between the two groups\n",
    "mean_diff = np.mean(group_4) - np.mean(group_5)\n",
    "\n",
    "# Calculate the pooled standard deviation\n",
    "pooled_std = np.sqrt((np.std(group_4)**2 + np.std(group_5)**2) / 2)\n",
    "\n",
    "# Calculate Cohen's d\n",
    "cohen_d = mean_diff / pooled_std\n",
    "\n",
    "print(\"Cohen's d:\", cohen_d)"
   ]
  },
  {
   "cell_type": "code",
   "execution_count": 79,
   "metadata": {},
   "outputs": [
    {
     "name": "stdout",
     "output_type": "stream",
     "text": [
      "Mann-Whitney U Test Results:\n",
      "Test Statistic: 244647637944.0\n",
      "P-value: 0.0\n",
      "Reject the null hypothesis: There is a significant difference between the distributions.\n"
     ]
    }
   ],
   "source": [
    "group_6 = df_filter2[df_filter2['resolved_new'] == 0]['current18th']\n",
    "group_7 = df_filter2[df_filter2['resolved_new'] == 1]['current18th']\n",
    "\n",
    "# Perform the Mann-Whitney U test\n",
    "statistic, p_value = mannwhitneyu(group_6, group_7)\n",
    "\n",
    "# Output the results\n",
    "print(\"Mann-Whitney U Test Results:\")\n",
    "print(\"Test Statistic:\", statistic)\n",
    "print(\"P-value:\", p_value)\n",
    "\n",
    "# Interpret the results\n",
    "if p_value < 0.05:\n",
    "    print(\"Reject the null hypothesis: There is a significant difference between the distributions.\")\n",
    "else:\n",
    "    print(\"Fail to reject the null hypothesis: There is no significant difference between the distributions.\")"
   ]
  },
  {
   "cell_type": "code",
   "execution_count": 80,
   "metadata": {},
   "outputs": [
    {
     "name": "stdout",
     "output_type": "stream",
     "text": [
      "Cohen's d: 0.1168060306915869\n"
     ]
    }
   ],
   "source": [
    "# Calculate the mean difference between the two groups\n",
    "mean_diff = np.mean(group_6) - np.mean(group_7)\n",
    "\n",
    "# Calculate the pooled standard deviation\n",
    "pooled_std = np.sqrt((np.std(group_6)**2 + np.std(group_7)**2) / 2)\n",
    "\n",
    "# Calculate Cohen's d\n",
    "cohen_d = mean_diff / pooled_std\n",
    "\n",
    "print(\"Cohen's d:\", cohen_d)"
   ]
  },
  {
   "cell_type": "code",
   "execution_count": 82,
   "metadata": {},
   "outputs": [
    {
     "name": "stderr",
     "output_type": "stream",
     "text": [
      "/var/folders/g9/5jyvjr4j7lv1y3yc8kjj9fr80000gn/T/ipykernel_40647/1432057053.py:11: SettingWithCopyWarning: \n",
      "A value is trying to be set on a copy of a slice from a DataFrame.\n",
      "Try using .loc[row_indexer,col_indexer] = value instead\n",
      "\n",
      "See the caveats in the documentation: https://pandas.pydata.org/pandas-docs/stable/user_guide/indexing.html#returning-a-view-versus-a-copy\n",
      "  df_filter1['auto_pay_enrolled_status_13_march_bin'] = df_filter1['auto_pay_enrolled_status_13_march'].apply(lambda x: int_to_binary(x))\n",
      "/var/folders/g9/5jyvjr4j7lv1y3yc8kjj9fr80000gn/T/ipykernel_40647/1432057053.py:12: SettingWithCopyWarning: \n",
      "A value is trying to be set on a copy of a slice from a DataFrame.\n",
      "Try using .loc[row_indexer,col_indexer] = value instead\n",
      "\n",
      "See the caveats in the documentation: https://pandas.pydata.org/pandas-docs/stable/user_guide/indexing.html#returning-a-view-versus-a-copy\n",
      "  df_filter2['auto_pay_enrolled_status_18_march_bin'] = df_filter2['auto_pay_enrolled_status_18_march'].apply(lambda x: int_to_binary(x))\n"
     ]
    }
   ],
   "source": [
    "#Checking wrt to Autopay\n",
    "#Converting to binary\n",
    "\n",
    "def int_to_binary(x):\n",
    "    if x == 0:\n",
    "        return 0\n",
    "    else:\n",
    "        return 1\n",
    "\n",
    "# Apply the function to the integer column and create a new binary column\n",
    "df_filter1['auto_pay_enrolled_status_13_march_bin'] = df_filter1['auto_pay_enrolled_status_13_march'].apply(lambda x: int_to_binary(x))\n",
    "df_filter2['auto_pay_enrolled_status_18_march_bin'] = df_filter2['auto_pay_enrolled_status_18_march'].apply(lambda x: int_to_binary(x))"
   ]
  },
  {
   "cell_type": "code",
   "execution_count": 83,
   "metadata": {},
   "outputs": [
    {
     "name": "stdout",
     "output_type": "stream",
     "text": [
      "Mann-Whitney U Test Results:\n",
      "Test Statistic: 34125338019.0\n",
      "P-value: 9.694604739120781e-32\n",
      "Reject the null hypothesis: There is a significant difference between the distributions.\n",
      "Cohen's d: 0.06355553379858625\n"
     ]
    }
   ],
   "source": [
    "#Current month Wrt 13th March\n",
    "from scipy.stats import mannwhitneyu\n",
    "\n",
    "\n",
    "group_11 = df_filter1[df_filter1['auto_pay_enrolled_status_13_march_bin'] == 0]['current']\n",
    "group_12 = df_filter1[df_filter1['auto_pay_enrolled_status_13_march_bin'] == 1]['current']\n",
    "\n",
    "# Perform the Mann-Whitney U test\n",
    "statistic, p_value = mannwhitneyu(group_11, group_12)\n",
    "\n",
    "# Output the results\n",
    "print(\"Mann-Whitney U Test Results:\")\n",
    "print(\"Test Statistic:\", statistic)\n",
    "print(\"P-value:\", p_value)\n",
    "\n",
    "\n",
    "if p_value < 0.05:\n",
    "    print(\"Reject the null hypothesis: There is a significant difference between the distributions.\")\n",
    "else:\n",
    "    print(\"Fail to reject the null hypothesis: There is no significant difference between the distributions.\")\n",
    "\n",
    "mean_diff = np.mean(group_11) - np.mean(group_12)\n",
    "\n",
    "# Calculate the pooled standard deviation\n",
    "pooled_std = np.sqrt((np.std(group_11)**2 + np.std(group_12)**2) / 2)\n",
    "\n",
    "# Calculate Cohen's d\n",
    "cohen_d = mean_diff / pooled_std\n",
    "\n",
    "print(\"Cohen's d:\", cohen_d)"
   ]
  },
  {
   "cell_type": "code",
   "execution_count": 84,
   "metadata": {},
   "outputs": [
    {
     "name": "stdout",
     "output_type": "stream",
     "text": [
      "Mann-Whitney U Test Results:\n",
      "Test Statistic: 34692169930.0\n",
      "P-value: 1.45345512863215e-104\n",
      "Reject the null hypothesis: There is a significant difference between the distributions.\n",
      "Cohen's d: 0.12105555644724386\n"
     ]
    }
   ],
   "source": [
    "#Previous month Wrt 13th March\n",
    "# Assuming 'binary_column' is the binary column and 'numeric_column' is the numeric column\n",
    "# 'df' is the DataFrame containing the columns\n",
    "\n",
    "# Separate data into two groups based on the binary column\n",
    "group_13 = df_filter1[df_filter1['auto_pay_enrolled_status_13_march_bin'] == 0]['previous']\n",
    "group_14 = df_filter1[df_filter1['auto_pay_enrolled_status_13_march_bin'] == 1]['previous']\n",
    "\n",
    "# Perform the Mann-Whitney U test\n",
    "statistic, p_value = mannwhitneyu(group_13, group_14)\n",
    "\n",
    "# Output the results\n",
    "print(\"Mann-Whitney U Test Results:\")\n",
    "print(\"Test Statistic:\", statistic)\n",
    "print(\"P-value:\", p_value)\n",
    "\n",
    "# Interpret the results\n",
    "if p_value < 0.05:\n",
    "    print(\"Reject the null hypothesis: There is a significant difference between the distributions.\")\n",
    "else:\n",
    "    print(\"Fail to reject the null hypothesis: There is no significant difference between the distributions.\")\n",
    "\n",
    "mean_diff = np.mean(group_13) - np.mean(group_14)\n",
    "\n",
    "# Calculate the pooled standard deviation\n",
    "pooled_std = np.sqrt((np.std(group_13)**2 + np.std(group_14)**2) / 2)\n",
    "\n",
    "# Calculate Cohen's d\n",
    "cohen_d = mean_diff / pooled_std\n",
    "\n",
    "print(\"Cohen's d:\", cohen_d)"
   ]
  },
  {
   "cell_type": "code",
   "execution_count": 85,
   "metadata": {},
   "outputs": [
    {
     "name": "stdout",
     "output_type": "stream",
     "text": [
      "Mann-Whitney U Test Results:\n",
      "Test Statistic: 34999462408.0\n",
      "P-value: 4.509958400887555e-103\n",
      "Reject the null hypothesis: There is a significant difference between the distributions.\n",
      "Cohen's d: 0.12077507939640994\n"
     ]
    }
   ],
   "source": [
    "#Previous month Wrt 18th March\n",
    "\n",
    "# Separate data into two groups based on the binary column\n",
    "group_15 = df_filter2[df_filter2['auto_pay_enrolled_status_18_march_bin'] == 0]['previous18th']\n",
    "group_16 = df_filter2[df_filter2['auto_pay_enrolled_status_18_march_bin'] == 1]['previous18th']\n",
    "\n",
    "# Perform the Mann-Whitney U test\n",
    "statistic, p_value = mannwhitneyu(group_15, group_16)\n",
    "\n",
    "# Output the results\n",
    "print(\"Mann-Whitney U Test Results:\")\n",
    "print(\"Test Statistic:\", statistic)\n",
    "print(\"P-value:\", p_value)\n",
    "\n",
    "# Interpret the results\n",
    "if p_value < 0.05:\n",
    "    print(\"Reject the null hypothesis: There is a significant difference between the distributions.\")\n",
    "else:\n",
    "    print(\"Fail to reject the null hypothesis: There is no significant difference between the distributions.\")\n",
    "\n",
    "mean_diff = np.mean(group_15) - np.mean(group_16)\n",
    "\n",
    "# Calculate the pooled standard deviation\n",
    "pooled_std = np.sqrt((np.std(group_15)**2 + np.std(group_16)**2) / 2)\n",
    "\n",
    "# Calculate Cohen's d\n",
    "cohen_d = mean_diff / pooled_std\n",
    "\n",
    "print(\"Cohen's d:\", cohen_d)"
   ]
  },
  {
   "cell_type": "code",
   "execution_count": 86,
   "metadata": {},
   "outputs": [
    {
     "name": "stdout",
     "output_type": "stream",
     "text": [
      "Mann-Whitney U Test Results:\n",
      "Test Statistic: 34414274812.5\n",
      "P-value: 2.9659192229682555e-29\n",
      "Reject the null hypothesis: There is a significant difference between the distributions.\n",
      "Cohen's d: 0.06091800252960797\n"
     ]
    }
   ],
   "source": [
    "#Current month Wrt 18th March\n",
    "# Separate data into two groups based on the binary column\n",
    "group_17 = df_filter2[df_filter2['auto_pay_enrolled_status_18_march_bin'] == 0]['current18th']\n",
    "group_18 = df_filter2[df_filter2['auto_pay_enrolled_status_18_march_bin'] == 1]['current18th']\n",
    "\n",
    "# Perform the Mann-Whitney U test\n",
    "statistic, p_value = mannwhitneyu(group_17, group_18)\n",
    "\n",
    "# Output the results\n",
    "print(\"Mann-Whitney U Test Results:\")\n",
    "print(\"Test Statistic:\", statistic)\n",
    "print(\"P-value:\", p_value)\n",
    "\n",
    "# Interpret the results\n",
    "if p_value < 0.05:\n",
    "    print(\"Reject the null hypothesis: There is a significant difference between the distributions.\")\n",
    "else:\n",
    "    print(\"Fail to reject the null hypothesis: There is no significant difference between the distributions.\")\n",
    "\n",
    "mean_diff = np.mean(group_17) - np.mean(group_18)\n",
    "\n",
    "# Calculate the pooled standard deviation\n",
    "pooled_std = np.sqrt((np.std(group_17)**2 + np.std(group_18)**2) / 2)\n",
    "\n",
    "# Calculate Cohen's d\n",
    "cohen_d = mean_diff / pooled_std\n",
    "\n",
    "print(\"Cohen's d:\", cohen_d)"
   ]
  },
  {
   "cell_type": "code",
   "execution_count": 87,
   "metadata": {},
   "outputs": [
    {
     "name": "stderr",
     "output_type": "stream",
     "text": [
      "/var/folders/g9/5jyvjr4j7lv1y3yc8kjj9fr80000gn/T/ipykernel_40647/4108283888.py:9: SettingWithCopyWarning: \n",
      "A value is trying to be set on a copy of a slice from a DataFrame.\n",
      "Try using .loc[row_indexer,col_indexer] = value instead\n",
      "\n",
      "See the caveats in the documentation: https://pandas.pydata.org/pandas-docs/stable/user_guide/indexing.html#returning-a-view-versus-a-copy\n",
      "  df_filter1['eservice_ind_13_march_bin'] = df_filter1['eservice_ind_13_march'].apply(lambda x: int_to_binary(x))\n",
      "/var/folders/g9/5jyvjr4j7lv1y3yc8kjj9fr80000gn/T/ipykernel_40647/4108283888.py:11: SettingWithCopyWarning: \n",
      "A value is trying to be set on a copy of a slice from a DataFrame.\n",
      "Try using .loc[row_indexer,col_indexer] = value instead\n",
      "\n",
      "See the caveats in the documentation: https://pandas.pydata.org/pandas-docs/stable/user_guide/indexing.html#returning-a-view-versus-a-copy\n",
      "  df_filter2['eservice_ind_18_march_bin'] = df_filter2['eservice_ind_18_march'].apply(lambda x: int_to_binary(x))\n"
     ]
    }
   ],
   "source": [
    "#Checking wrt to Eservice\n",
    "def int_to_binary(x):\n",
    "    if x == 0:\n",
    "        return 0\n",
    "    else:\n",
    "        return 1\n",
    "\n",
    "# Apply the function to the integer column and create a new binary column\n",
    "df_filter1['eservice_ind_13_march_bin'] = df_filter1['eservice_ind_13_march'].apply(lambda x: int_to_binary(x))\n",
    "# Apply the function to the integer column and create a new binary column\n",
    "df_filter2['eservice_ind_18_march_bin'] = df_filter2['eservice_ind_18_march'].apply(lambda x: int_to_binary(x))"
   ]
  },
  {
   "cell_type": "code",
   "execution_count": 88,
   "metadata": {},
   "outputs": [
    {
     "name": "stdout",
     "output_type": "stream",
     "text": [
      "Mann-Whitney U Test Results:\n",
      "Test Statistic: 330978973517.0\n",
      "P-value: 4.2517744685674907e-17\n",
      "Reject the null hypothesis: There is a significant difference between the distributions.\n",
      "Cohen's d: -0.007665403493109948\n"
     ]
    }
   ],
   "source": [
    "#Previous month Wrt 13th March\n",
    "group_20 = df_filter1[df_filter1['eservice_ind_13_march_bin'] == 0]['previous']\n",
    "group_21 = df_filter1[df_filter1['eservice_ind_13_march_bin'] == 1]['previous']\n",
    "\n",
    "# Perform the Mann-Whitney U test\n",
    "statistic, p_value = mannwhitneyu(group_20, group_21)\n",
    "\n",
    "# Output the results\n",
    "print(\"Mann-Whitney U Test Results:\")\n",
    "print(\"Test Statistic:\", statistic)\n",
    "print(\"P-value:\", p_value)\n",
    "\n",
    "# Interpret the results\n",
    "if p_value < 0.05:\n",
    "    print(\"Reject the null hypothesis: There is a significant difference between the distributions.\")\n",
    "else:\n",
    "    print(\"Fail to reject the null hypothesis: There is no significant difference between the distributions.\")\n",
    "\n",
    "mean_diff = np.mean(group_20) - np.mean(group_21)\n",
    "\n",
    "# Calculate the pooled standard deviation\n",
    "pooled_std = np.sqrt((np.std(group_20)**2 + np.std(group_21)**2) / 2)\n",
    "\n",
    "# Calculate Cohen's d\n",
    "cohen_d = mean_diff / pooled_std\n",
    "\n",
    "print(\"Cohen's d:\", cohen_d)"
   ]
  },
  {
   "cell_type": "code",
   "execution_count": 89,
   "metadata": {},
   "outputs": [
    {
     "name": "stdout",
     "output_type": "stream",
     "text": [
      "Mann-Whitney U Test Results:\n",
      "Test Statistic: 332299929015.0\n",
      "P-value: 1.2772425228034071e-15\n",
      "Reject the null hypothesis: There is a significant difference between the distributions.\n",
      "Cohen's d: 0.014359116569013971\n"
     ]
    }
   ],
   "source": [
    "#Current month Wrt 13th March\n",
    "\n",
    "# Separate data into two groups based on the binary column\n",
    "group_22 = df_filter1[df_filter1['eservice_ind_13_march_bin'] == 0]['current']\n",
    "group_23 = df_filter1[df_filter1['eservice_ind_13_march_bin'] == 1]['current']\n",
    "\n",
    "# Perform the Mann-Whitney U test\n",
    "statistic, p_value = mannwhitneyu(group_22, group_23)\n",
    "\n",
    "# Output the results\n",
    "print(\"Mann-Whitney U Test Results:\")\n",
    "print(\"Test Statistic:\", statistic)\n",
    "print(\"P-value:\", p_value)\n",
    "\n",
    "# Interpret the results\n",
    "if p_value < 0.05:\n",
    "    print(\"Reject the null hypothesis: There is a significant difference between the distributions.\")\n",
    "else:\n",
    "    print(\"Fail to reject the null hypothesis: There is no significant difference between the distributions.\")\n",
    "\n",
    "mean_diff = np.mean(group_22) - np.mean(group_23)\n",
    "\n",
    "# Calculate the pooled standard deviation\n",
    "pooled_std = np.sqrt((np.std(group_22)**2 + np.std(group_23)**2) / 2)\n",
    "\n",
    "# Calculate Cohen's d\n",
    "cohen_d = mean_diff / pooled_std\n",
    "\n",
    "print(\"Cohen's d:\", cohen_d)"
   ]
  },
  {
   "cell_type": "code",
   "execution_count": 90,
   "metadata": {},
   "outputs": [
    {
     "name": "stdout",
     "output_type": "stream",
     "text": [
      "Mann-Whitney U Test Results:\n",
      "Test Statistic: 332940719067.5\n",
      "P-value: 3.860372951332362e-27\n",
      "Reject the null hypothesis: There is a significant difference between the distributions.\n",
      "Cohen's d: -0.010517761539241527\n"
     ]
    }
   ],
   "source": [
    "#Previous month Wrt 18th March\n",
    "\n",
    "# Separate data into two groups based on the binary column\n",
    "group_23 = df_filter2[df_filter2['eservice_ind_18_march_bin'] == 0]['previous18th']\n",
    "group_24 = df_filter2[df_filter2['eservice_ind_18_march_bin'] == 1]['previous18th']\n",
    "\n",
    "# Perform the Mann-Whitney U test\n",
    "statistic, p_value = mannwhitneyu(group_23, group_24)\n",
    "\n",
    "# Output the results\n",
    "print(\"Mann-Whitney U Test Results:\")\n",
    "print(\"Test Statistic:\", statistic)\n",
    "print(\"P-value:\", p_value)\n",
    "\n",
    "# Interpret the results\n",
    "if p_value < 0.05:\n",
    "    print(\"Reject the null hypothesis: There is a significant difference between the distributions.\")\n",
    "else:\n",
    "    print(\"Fail to reject the null hypothesis: There is no significant difference between the distributions.\")\n",
    "\n",
    "# Calculate the mean difference between the two groups\n",
    "mean_diff = np.mean(group_23) - np.mean(group_24)\n",
    "\n",
    "# Calculate the pooled standard deviation\n",
    "pooled_std = np.sqrt((np.std(group_23)**2 + np.std(group_24)**2) / 2)\n",
    "\n",
    "# Calculate Cohen's d\n",
    "cohen_d = mean_diff / pooled_std\n",
    "\n",
    "print(\"Cohen's d:\", cohen_d)"
   ]
  },
  {
   "cell_type": "code",
   "execution_count": 91,
   "metadata": {},
   "outputs": [
    {
     "name": "stdout",
     "output_type": "stream",
     "text": [
      "Mann-Whitney U Test Results:\n",
      "Test Statistic: 334525582202.0\n",
      "P-value: 1.1876092765564014e-15\n",
      "Reject the null hypothesis: There is a significant difference between the distributions.\n",
      "Cohen's d: 0.014804146777795294\n"
     ]
    }
   ],
   "source": [
    "#Current month Wrt 18th March\n",
    "# Separate data into two groups based on the binary column\n",
    "group_25 = df_filter2[df_filter2['eservice_ind_18_march_bin'] == 0]['current18th']\n",
    "group_26 = df_filter2[df_filter2['eservice_ind_18_march_bin'] == 1]['current18th']\n",
    "\n",
    "# Perform the Mann-Whitney U test\n",
    "statistic, p_value = mannwhitneyu(group_25, group_26)\n",
    "\n",
    "# Output the results\n",
    "print(\"Mann-Whitney U Test Results:\")\n",
    "print(\"Test Statistic:\", statistic)\n",
    "print(\"P-value:\", p_value)\n",
    "\n",
    "# Interpret the results\n",
    "if p_value < 0.05:\n",
    "    print(\"Reject the null hypothesis: There is a significant difference between the distributions.\")\n",
    "else:\n",
    "    print(\"Fail to reject the null hypothesis: There is no significant difference between the distributions.\")\n",
    "\n",
    "mean_diff = np.mean(group_25) - np.mean(group_26)\n",
    "\n",
    "# Calculate the pooled standard deviation\n",
    "pooled_std = np.sqrt((np.std(group_25)**2 + np.std(group_26)**2) / 2)\n",
    "\n",
    "# Calculate Cohen's d\n",
    "cohen_d = mean_diff / pooled_std\n",
    "\n",
    "print(\"Cohen's d:\", cohen_d)"
   ]
  },
  {
   "cell_type": "code",
   "execution_count": 92,
   "metadata": {},
   "outputs": [
    {
     "name": "stdout",
     "output_type": "stream",
     "text": [
      "Mann-Whitney U Test Results:\n",
      "Test Statistic: 332940719067.5\n",
      "P-value: 3.860372951332362e-27\n",
      "Reject the null hypothesis: There is a significant difference between the distributions.\n",
      "Cohen's d: -0.010517761539241527\n"
     ]
    }
   ],
   "source": [
    "#Current month Wrt 18th March\n",
    "# Separate data into two groups based on the binary column\n",
    "group_23 = df_filter2[df_filter2['eservice_ind_18_march_bin'] == 0]['previous18th']\n",
    "group_24 = df_filter2[df_filter2['eservice_ind_18_march_bin'] == 1]['previous18th']\n",
    "\n",
    "# Perform the Mann-Whitney U test\n",
    "statistic, p_value = mannwhitneyu(group_23, group_24)\n",
    "\n",
    "# Output the results\n",
    "print(\"Mann-Whitney U Test Results:\")\n",
    "print(\"Test Statistic:\", statistic)\n",
    "print(\"P-value:\", p_value)\n",
    "\n",
    "# Interpret the results\n",
    "if p_value < 0.05:\n",
    "    print(\"Reject the null hypothesis: There is a significant difference between the distributions.\")\n",
    "else:\n",
    "    print(\"Fail to reject the null hypothesis: There is no significant difference between the distributions.\")\n",
    "    \n",
    "mean_diff = np.mean(group_23) - np.mean(group_24)\n",
    "\n",
    "# Calculate the pooled standard deviation\n",
    "pooled_std = np.sqrt((np.std(group_23)**2 + np.std(group_24)**2) / 2)\n",
    "\n",
    "# Calculate Cohen's d\n",
    "cohen_d = mean_diff / pooled_std\n",
    "\n",
    "print(\"Cohen's d:\", cohen_d)"
   ]
  },
  {
   "cell_type": "code",
   "execution_count": 93,
   "metadata": {},
   "outputs": [
    {
     "data": {
      "image/png": "[encoded data removed]",
      "text/plain": [
       "<Figure size 1000x800 with 2 Axes>"
      ]
     },
     "metadata": {},
     "output_type": "display_data"
    }
   ],
   "source": [
    "selected_columns = ['no_of_accounts_with_syf_13_march', 'account_balance_13_march',\n",
    "                    'eservice_ind_13_march_bin','auto_pay_enrolled_status_13_march_bin','resolved_new']\n",
    "\n",
    "# Compute the correlation matrix\n",
    "corr_matrix = df_filter1[selected_columns].corr()\n",
    "\n",
    "# Plot the heatmap\n",
    "plt.figure(figsize=(10, 8))\n",
    "sns.heatmap(corr_matrix, annot=True, cmap='coolwarm', fmt=\".2f\")\n",
    "plt.title('Correlation Matrix Heatmap')\n",
    "plt.show()"
   ]
  },
  {
   "cell_type": "markdown",
   "metadata": {},
   "source": [
    "### Section 2.4: Looking into account balance"
   ]
  },
  {
   "cell_type": "code",
   "execution_count": 94,
   "metadata": {},
   "outputs": [
    {
     "name": "stdout",
     "output_type": "stream",
     "text": [
      "Percentage of 'resolved': 57.470010905125406%\n",
      "Percentage of 'floor': 42.529989094874594%\n",
      "total count: 1834\n"
     ]
    }
   ],
   "source": [
    "filtered_df = df[(df[\"account_balance_13_march\"] > 0) & (df[\"account_balance_18_march\"] < 0)]\n",
    "\n",
    "resolved_counts = filtered_df[\"resolved\"].value_counts()\n",
    "\n",
    "# Extract counts for \"resolved\" and \"floor\"\n",
    "count_resolved = resolved_counts.get(\"resolved\", 0)  # Default to 0 if \"resolved\" is not found\n",
    "count_floor = resolved_counts.get(\"floor\", 0)  # Default to 0 if \"floor\" is not found\n",
    "print(f\"Percentage of 'resolved': {count_resolved * 100/ (count_resolved+count_floor)}%\")\n",
    "print(f\"Percentage of 'floor': {count_floor * 100/ (count_resolved+count_floor)}%\")\n",
    "print(f\"total count: {count_resolved+count_floor}\")\n",
    "\n",
    "# Observation: out of total dataset, floored call is around 20%. but with 13Balance >0 & 18Balance < 0, then floor shoots to 42.5%"
   ]
  }
 ],
 "metadata": {
  "kernelspec": {
   "display_name": "Python 3",
   "language": "python",
   "name": "python3"
  },
  "language_info": {
   "codemirror_mode": {
    "name": "ipython",
    "version": 3
   },
   "file_extension": ".py",
   "mimetype": "text/x-python",
   "name": "python",
   "nbconvert_exporter": "python",
   "pygments_lexer": "ipython3",
   "version": "3.9.6"
  }
 },
 "nbformat": 4,
 "nbformat_minor": 2
}
