{
 "cells": [
  {
   "cell_type": "code",
   "execution_count": 1,
   "metadata": {},
   "outputs": [],
   "source": [
    "import pandas as pd\n",
    "import numpy as np\n",
    "import matplotlib.pyplot as plt\n",
    "import seaborn as sns\n",
    "from datetime import datetime"
   ]
  },
  {
   "cell_type": "markdown",
   "metadata": {},
   "source": [
    "##### Load the dataset"
   ]
  },
  {
   "cell_type": "code",
   "execution_count": 2,
   "metadata": {},
   "outputs": [],
   "source": [
    "df = pd.read_csv('data_cleaned_mos.csv')"
   ]
  },
  {
   "cell_type": "code",
   "execution_count": 4,
   "metadata": {},
   "outputs": [
    {
     "name": "stdout",
     "output_type": "stream",
     "text": [
      "Null/Empty counts for each column:\n",
      "timestamp_call_key                        0\n",
      "retailer_code                             0\n",
      "serial                                    0\n",
      "reason                                    0\n",
      "mos                                       0\n",
      "resolved                                  0\n",
      "no_of_accounts_with_syf_13_march       3400\n",
      "account_balance_13_march             113782\n",
      "delinquency_history_13_march              0\n",
      "account_open_date_13_march                0\n",
      "account_status_13_march                   0\n",
      "card_activation_status_13_march           0\n",
      "eservice_ind_13_march                     0\n",
      "ebill_enrolled_status_13_march            0\n",
      "auto_pay_enrolled_status_13_march         0\n",
      "no_of_accounts_with_syf_18_march       3402\n",
      "account_balance_18_march             101829\n",
      "delinquency_history_18_march              0\n",
      "account_open_date_18_march                0\n",
      "account_status_18_march                   0\n",
      "card_activation_status_18_march           0\n",
      "eservice_ind_18_march                     0\n",
      "ebill_enrolled_status_18_march            0\n",
      "auto_pay_enrolled_status_18_march         0\n",
      "date_of_call                              0\n",
      "time_of_call                              0\n",
      "dtype: int64\n"
     ]
    }
   ],
   "source": [
    "null_counts = df.isnull().sum()\n",
    "print(\"Null/Empty counts for each column:\")\n",
    "print(null_counts)"
   ]
  },
  {
   "cell_type": "markdown",
   "metadata": {},
   "source": [
    "Most common paths"
   ]
  },
  {
   "cell_type": "code",
   "execution_count": 12,
   "metadata": {},
   "outputs": [],
   "source": [
    "from collections import Counter\n",
    "\n",
    "mos_sequences = df['cleaned_mos'].str.split().apply(tuple) \n",
    "most_common_paths = Counter(mos_sequences).most_common()"
   ]
  },
  {
   "cell_type": "code",
   "execution_count": 7,
   "metadata": {},
   "outputs": [
    {
     "name": "stdout",
     "output_type": "stream",
     "text": [
      "[<class 'str'> <class 'float'>]\n"
     ]
    }
   ],
   "source": [
    "unique_data_types = df['cleaned_mos'].apply(type).unique()\n",
    "print(unique_data_types)"
   ]
  },
  {
   "cell_type": "code",
   "execution_count": 8,
   "metadata": {},
   "outputs": [
    {
     "name": "stdout",
     "output_type": "stream",
     "text": [
      "            timestamp_call_key retailer_code       serial reason          mos  \\\n",
      "3        240314120849 PHX6PL4U             E  10008003199     BA        IA BA   \n",
      "6        240316012428 PHX43JOI             E  10006032399     BA        IA BA   \n",
      "7        240316171347 PHX4I164             B  10002094529     BA        IA BA   \n",
      "8        240316171945 DAL16OYM             B  10002094529     BA  IA IA IA BA   \n",
      "22       240315161527 DAL5NC9N             B  10007016674     BA        IA BA   \n",
      "...                        ...           ...          ...    ...          ...   \n",
      "1798697  240317135028 PHX3JEM2             C  20003069288     BA        IA BA   \n",
      "1798698  240316215117 PHX5MN65             H  20009019173     mn     mn IA TR   \n",
      "1798721  240314215722 PHX7KXNL             I  20022001348     BA     IA IA BA   \n",
      "1798794  240314120336 DAL4K2UN             I  20012001463     BA        IA BA   \n",
      "1798796  240317213341 PHX35A2C             D  20010020211     FD     IA IA TR   \n",
      "\n",
      "         resolved  no_of_accounts_with_syf_13_march  account_balance_13_march  \\\n",
      "3        resolved                               2.0                     44.98   \n",
      "6        resolved                               3.0                       NaN   \n",
      "7        resolved                               6.0                      0.00   \n",
      "8        resolved                               6.0                      0.00   \n",
      "22       resolved                               5.0                     88.32   \n",
      "...           ...                               ...                       ...   \n",
      "1798697  resolved                               3.0                   4476.43   \n",
      "1798698  resolved                               3.0                      0.00   \n",
      "1798721  resolved                               1.0                    220.02   \n",
      "1798794  resolved                              14.0                   1314.94   \n",
      "1798796     floor                               8.0                    386.63   \n",
      "\n",
      "        delinquency_history_13_march account_open_date_13_march  ...  \\\n",
      "3                               [00]                   2/7/2024  ...   \n",
      "6                               [02]                  9/26/2021  ...   \n",
      "7                               [00]                  9/13/2020  ...   \n",
      "8                               [00]                  9/13/2020  ...   \n",
      "22                              [00]                  9/26/2014  ...   \n",
      "...                              ...                        ...  ...   \n",
      "1798697                         [00]                 10/29/2023  ...   \n",
      "1798698                         [00]                 12/10/2023  ...   \n",
      "1798721                         [20]                  12/3/2023  ...   \n",
      "1798794                         [00]                   2/8/2022  ...   \n",
      "1798796                         [00]                  5/15/2019  ...   \n",
      "\n",
      "        delinquency_history_18_march  account_open_date_18_march  \\\n",
      "3                               [00]                    2/7/2024   \n",
      "6                               [02]                   9/26/2021   \n",
      "7                               [00]                   9/13/2020   \n",
      "8                               [00]                   9/13/2020   \n",
      "22                              [00]                   9/26/2014   \n",
      "...                              ...                         ...   \n",
      "1798697                         [00]                  10/29/2023   \n",
      "1798698                         [00]                  12/10/2023   \n",
      "1798721                         [02]                   12/3/2023   \n",
      "1798794                         [00]                    2/8/2022   \n",
      "1798796                         [00]                   5/15/2019   \n",
      "\n",
      "         account_status_18_march card_activation_status_18_march  \\\n",
      "3                              N                               0   \n",
      "6                              N                               0   \n",
      "7                              N                               0   \n",
      "8                              N                               0   \n",
      "22                             N                               0   \n",
      "...                          ...                             ...   \n",
      "1798697                        N                               0   \n",
      "1798698                        N                               0   \n",
      "1798721                        N                               0   \n",
      "1798794                        N                               0   \n",
      "1798796                        A                               0   \n",
      "\n",
      "         eservice_ind_18_march  ebill_enrolled_status_18_march  \\\n",
      "3                            0                               B   \n",
      "6                            0                               B   \n",
      "7                            0                               N   \n",
      "8                            0                               N   \n",
      "22                           0                               N   \n",
      "...                        ...                             ...   \n",
      "1798697                      0                               E   \n",
      "1798698                      1                               E   \n",
      "1798721                      1                               E   \n",
      "1798794                      0                               N   \n",
      "1798796                      1                               B   \n",
      "\n",
      "         auto_pay_enrolled_status_18_march date_of_call time_of_call  \\\n",
      "3                                        0   03/14/2024     12:08:49   \n",
      "6                                        0   03/16/2024     01:24:28   \n",
      "7                                        0   03/16/2024     17:13:47   \n",
      "8                                        0   03/16/2024     17:19:45   \n",
      "22                                       0   03/15/2024     16:15:27   \n",
      "...                                    ...          ...          ...   \n",
      "1798697                                  0   03/17/2024     13:50:28   \n",
      "1798698                                  0   03/16/2024     21:51:17   \n",
      "1798721                                  0   03/14/2024     21:57:22   \n",
      "1798794                                  0   03/14/2024     12:03:36   \n",
      "1798796                                  0   03/17/2024     21:33:41   \n",
      "\n",
      "        cleaned_mos  \n",
      "3               NaN  \n",
      "6               NaN  \n",
      "7               NaN  \n",
      "8               NaN  \n",
      "22              NaN  \n",
      "...             ...  \n",
      "1798697         NaN  \n",
      "1798698         NaN  \n",
      "1798721         NaN  \n",
      "1798794         NaN  \n",
      "1798796         NaN  \n",
      "\n",
      "[188722 rows x 27 columns]\n"
     ]
    }
   ],
   "source": [
    "float_rows = df[df['cleaned_mos'].apply(type) == float]\n",
    "print(float_rows)"
   ]
  },
  {
   "cell_type": "code",
   "execution_count": 11,
   "metadata": {},
   "outputs": [
    {
     "name": "stdout",
     "output_type": "stream",
     "text": [
      "Number of NaN values in 'cleaned_mos' column: 0\n"
     ]
    }
   ],
   "source": [
    "nan_count = df['cleaned_mos'].isna().sum()\n",
    "print(\"Number of NaN values in 'cleaned_mos' column:\", nan_count)"
   ]
  },
  {
   "cell_type": "code",
   "execution_count": 10,
   "metadata": {},
   "outputs": [],
   "source": [
    "df.dropna(subset=['cleaned_mos'], inplace=True)"
   ]
  },
  {
   "cell_type": "code",
   "execution_count": null,
   "metadata": {},
   "outputs": [],
   "source": [
    "import matplotlib.pyplot as plt\n",
    "\n",
    "mos_labels = [' '.join(mos) for mos, count in most_common_paths[:10]]\n",
    "counts = [count for mos, count in most_common_paths[:10]]\n",
    "\n",
    "plt.figure(figsize=(10, 8))\n",
    "plt.barh(mos_labels, counts)\n",
    "plt.xlabel('Frequency')\n",
    "plt.ylabel('MOS Path')\n",
    "plt.title('Top 10 Most Common MOS Paths')\n",
    "plt.gca().invert_yaxis() \n",
    "plt.show()\n"
   ]
  },
  {
   "cell_type": "code",
   "execution_count": 105,
   "metadata": {},
   "outputs": [
    {
     "name": "stdout",
     "output_type": "stream",
     "text": [
      "[(('IA', 'PP', 'TR'), 466412), (('mn', 'IA', 'PP', 'TR'), 137569), (('IA', 'BA'), 116279), (('IA', 'IA', 'PP', 'TR'), 46700), (('IA', 'BA', 'TS', 'nl', 'PT', 'TR'), 43145), (('IA', 'BA', 'TS'), 30003), (('IA', 'PP', 'BA'), 29874), (('IA', 'PI', 'BA'), 28304), (('mn', 'IA', 'BA'), 24763), (('IA', 'PP', 'BA', 'TS', 'nl', 'PT', 'TR'), 15463)]\n"
     ]
    }
   ],
   "source": [
    "print(most_common_paths[:10])"
   ]
  },
  {
   "cell_type": "code",
   "execution_count": 47,
   "metadata": {},
   "outputs": [],
   "source": [
    "mos_sequences_df = df['cleaned_mos'].str.split().apply(tuple).to_frame(name='mos_sequence_tuple').copy()\n",
    "mos_sequences_df['resolved_status'] = df['resolved']\n",
    "\n",
    "grouped_counts = mos_sequences_df.groupby(['mos_sequence_tuple', 'resolved_status']).size().unstack(fill_value=0)\n",
    "\n",
    "grouped_counts['total_occurrences'] = grouped_counts['resolved'] + grouped_counts['floor']\n",
    "\n",
    "grouped_counts['floor_percentage'] = (grouped_counts['floor'] / grouped_counts['total_occurrences']) * 100\n",
    "\n",
    "sorted_grouped_counts = grouped_counts.sort_values(by='floor_percentage', ascending=False)\n",
    "\n",
    "sorted_grouped_counts.reset_index(inplace=True)\n",
    "\n",
    "sorted_grouped_counts['mos_sequence'] = sorted_grouped_counts['mos_sequence_tuple'].apply(lambda x: ' '.join(x))\n",
    "\n",
    "mos_df = sorted_grouped_counts[['mos_sequence', 'floor_percentage', 'total_occurrences', 'resolved', 'floor']].copy()\n",
    "\n",
    "mos_df.rename(columns={\n",
    "    'mos_sequence': 'MOS Sequence',\n",
    "    'floor_percentage': 'Floor Call Percentage',\n",
    "    'total_occurrences': 'Total Occurrences',\n",
    "    'resolved': 'Number of Resolved Calls',\n",
    "    'floor': 'Number of Floor Calls'\n",
    "}, inplace=True)\n"
   ]
  },
  {
   "cell_type": "code",
   "execution_count": 48,
   "metadata": {},
   "outputs": [
    {
     "name": "stdout",
     "output_type": "stream",
     "text": [
      "resolved_status       MOS Sequence  Floor Call Percentage  Total Occurrences  \\\n",
      "11408                  TS nl mt RS              99.703634              19233   \n",
      "11394                     nl mt RS              99.782459               8734   \n",
      "11390                  PP nl mt RS              99.815186               6493   \n",
      "11402               PI TS nl mt RS              99.743357               6624   \n",
      "11397               PP TS nl mt RS              99.754902               6528   \n",
      "11424               TS nl nl mt RS              99.524394               6518   \n",
      "11412               TS mm mo mt RS              99.661017               3835   \n",
      "11405                  PI nl mt RS              99.717514               2832   \n",
      "11388            TS nl mm mo mt RS              99.863884               2204   \n",
      "11422            PI TS nl nl mt RS              99.549918               2444   \n",
      "\n",
      "resolved_status  weighted_score  \n",
      "11408                167.255590  \n",
      "11394                166.688622  \n",
      "11390                166.304133  \n",
      "11402                166.220503  \n",
      "11397                166.214829  \n",
      "11424                165.835840  \n",
      "11412                164.883868  \n",
      "11405                163.976121  \n",
      "11388                163.131690  \n",
      "11422                163.111261  \n"
     ]
    }
   ],
   "source": [
    "w_fp = 0.6 \n",
    "w_to = 0.4\n",
    "\n",
    "mos_df['weighted_score'] = (w_fp + w_to) / ((w_fp / (mos_df['Floor Call Percentage'] + 1)) + (w_to / (mos_df['Total Occurrences'] + 1)))\n",
    "\n",
    "mos_df_sorted = mos_df.sort_values(by='weighted_score', ascending=False)\n",
    "\n",
    "print(mos_df_sorted[['MOS Sequence', 'Floor Call Percentage', 'Total Occurrences', 'weighted_score']].head(10))\n"
   ]
  },
  {
   "cell_type": "code",
   "execution_count": 40,
   "metadata": {},
   "outputs": [
    {
     "data": {
      "text/html": [
       "<div>\n",
       "<style scoped>\n",
       "    .dataframe tbody tr th:only-of-type {\n",
       "        vertical-align: middle;\n",
       "    }\n",
       "\n",
       "    .dataframe tbody tr th {\n",
       "        vertical-align: top;\n",
       "    }\n",
       "\n",
       "    .dataframe thead th {\n",
       "        text-align: right;\n",
       "    }\n",
       "</style>\n",
       "<table border=\"1\" class=\"dataframe\">\n",
       "  <thead>\n",
       "    <tr style=\"text-align: right;\">\n",
       "      <th>resolved_status</th>\n",
       "      <th>MOS Sequence</th>\n",
       "      <th>Floor Call Percentage</th>\n",
       "      <th>Total Occurrences</th>\n",
       "      <th>Number of Resolved Calls</th>\n",
       "      <th>Number of Floor Calls</th>\n",
       "      <th>weighted_score</th>\n",
       "    </tr>\n",
       "  </thead>\n",
       "  <tbody>\n",
       "    <tr>\n",
       "      <th>11408</th>\n",
       "      <td>TS nl mt RS</td>\n",
       "      <td>99.703634</td>\n",
       "      <td>19233</td>\n",
       "      <td>57</td>\n",
       "      <td>19176</td>\n",
       "      <td>167.255590</td>\n",
       "    </tr>\n",
       "    <tr>\n",
       "      <th>11394</th>\n",
       "      <td>nl mt RS</td>\n",
       "      <td>99.782459</td>\n",
       "      <td>8734</td>\n",
       "      <td>19</td>\n",
       "      <td>8715</td>\n",
       "      <td>166.688622</td>\n",
       "    </tr>\n",
       "  </tbody>\n",
       "</table>\n",
       "</div>"
      ],
      "text/plain": [
       "resolved_status MOS Sequence  Floor Call Percentage  Total Occurrences  \\\n",
       "11408            TS nl mt RS              99.703634              19233   \n",
       "11394               nl mt RS              99.782459               8734   \n",
       "\n",
       "resolved_status  Number of Resolved Calls  Number of Floor Calls  \\\n",
       "11408                                  57                  19176   \n",
       "11394                                  19                   8715   \n",
       "\n",
       "resolved_status  weighted_score  \n",
       "11408                167.255590  \n",
       "11394                166.688622  "
      ]
     },
     "execution_count": 40,
     "metadata": {},
     "output_type": "execute_result"
    }
   ],
   "source": [
    "mos_df_sorted.head(2)"
   ]
  },
  {
   "cell_type": "code",
   "execution_count": 49,
   "metadata": {},
   "outputs": [
    {
     "name": "stdout",
     "output_type": "stream",
     "text": [
      "11408          TS RS\n",
      "11394             RS\n",
      "11390          PP RS\n",
      "11402       PI TS RS\n",
      "11397       PP TS RS\n",
      "            ...     \n",
      "16085          AA SP\n",
      "18805    AA TS AT mp\n",
      "18804       AA TS AT\n",
      "18803             iR\n",
      "17265    DR IC mp IC\n",
      "Name: MOS Sequence, Length: 23155, dtype: object\n"
     ]
    }
   ],
   "source": [
    "\n",
    "keywords_to_remove = ['nl', 'mt', 'mo', 'mm', 'mn']\n",
    "\n",
    "def remove_keywords(sequence):\n",
    "    words = sequence.split()\n",
    "    cleaned_words = [word for word in words if word not in keywords_to_remove]\n",
    "    return ' '.join(cleaned_words)\n",
    "\n",
    "mos_df_sorted['MOS Sequence'] = mos_df_sorted['MOS Sequence'].apply(remove_keywords)\n",
    "\n",
    "print(mos_df_sorted['MOS Sequence'])"
   ]
  },
  {
   "cell_type": "code",
   "execution_count": 50,
   "metadata": {},
   "outputs": [],
   "source": [
    "mos_df_sorted.dropna(subset=['MOS Sequence'], inplace=True)\n"
   ]
  },
  {
   "cell_type": "code",
   "execution_count": 51,
   "metadata": {},
   "outputs": [
    {
     "name": "stdout",
     "output_type": "stream",
     "text": [
      "resolved_status MOS Sequence  Floor Call Percentage  Total Occurrences  \\\n",
      "11408                  TS RS              99.703634              19233   \n",
      "11394                     RS              99.782459               8734   \n",
      "11390                  PP RS              99.815186               6493   \n",
      "11402               PI TS RS              99.743357               6624   \n",
      "11397               PP TS RS              99.754902               6528   \n",
      "...                      ...                    ...                ...   \n",
      "16085                  AA SP               0.000000                  1   \n",
      "18805            AA TS AT mp               0.000000                  1   \n",
      "18804               AA TS AT               0.000000                  1   \n",
      "18803                     iR               0.000000                  1   \n",
      "17265            DR IC mp IC               0.000000                  1   \n",
      "\n",
      "resolved_status  Number of Resolved Calls  Number of Floor Calls  \\\n",
      "11408                                  57                  19176   \n",
      "11394                                  19                   8715   \n",
      "11390                                  12                   6481   \n",
      "11402                                  17                   6607   \n",
      "11397                                  16                   6512   \n",
      "...                                   ...                    ...   \n",
      "16085                                   1                      0   \n",
      "18805                                   1                      0   \n",
      "18804                                   1                      0   \n",
      "18803                                   1                      0   \n",
      "17265                                   1                      0   \n",
      "\n",
      "resolved_status  weighted_score  normalized_weighted_score  \n",
      "11408                167.255590                   1.000000  \n",
      "11394                166.688622                   0.996585  \n",
      "11390                166.304133                   0.994269  \n",
      "11402                166.220503                   0.993765  \n",
      "11397                166.214829                   0.993731  \n",
      "...                         ...                        ...  \n",
      "16085                  1.250000                   0.000000  \n",
      "18805                  1.250000                   0.000000  \n",
      "18804                  1.250000                   0.000000  \n",
      "18803                  1.250000                   0.000000  \n",
      "17265                  1.250000                   0.000000  \n",
      "\n",
      "[23155 rows x 7 columns]\n"
     ]
    }
   ],
   "source": [
    "\n",
    "from sklearn.preprocessing import MinMaxScaler\n",
    "\n",
    "scaler = MinMaxScaler()\n",
    "\n",
    "weighted_score = mos_df_sorted[['weighted_score']]\n",
    "\n",
    "mos_df_sorted['normalized_weighted_score'] = scaler.fit_transform(weighted_score)\n",
    "\n",
    "print(mos_df_sorted)"
   ]
  },
  {
   "cell_type": "code",
   "execution_count": 52,
   "metadata": {},
   "outputs": [
    {
     "name": "stdout",
     "output_type": "stream",
     "text": [
      "resolved_status       MOS Sequence  Total Occurrences  \\\n",
      "8266                      TS WA eY                  1   \n",
      "3209                   OC OB me eL                  1   \n",
      "3226                   PA CT CT RS                  2   \n",
      "3225                PA CT CT CT RS                  1   \n",
      "3224                PA CT CT CT CT                  1   \n",
      "...                            ...                ...   \n",
      "4813             PI TS mp MP CA TD                  1   \n",
      "4821                PI TS mp MP PT                  4   \n",
      "4827                PI TS mp MP SR                  1   \n",
      "4828             PI TS mp MP WA PS                  1   \n",
      "9234                   wa mp MP mp                  1   \n",
      "\n",
      "resolved_status  Number of Resolved Calls  Number of Floor Calls  \\\n",
      "8266                                    0                      1   \n",
      "3209                                    0                      1   \n",
      "3226                                    0                      2   \n",
      "3225                                    0                      1   \n",
      "3224                                    0                      1   \n",
      "...                                   ...                    ...   \n",
      "4813                                    1                      0   \n",
      "4821                                    4                      0   \n",
      "4827                                    1                      0   \n",
      "4828                                    1                      0   \n",
      "9234                                    1                      0   \n",
      "\n",
      "resolved_status  Floor Percentage  \n",
      "8266                        100.0  \n",
      "3209                        100.0  \n",
      "3226                        100.0  \n",
      "3225                        100.0  \n",
      "3224                        100.0  \n",
      "...                           ...  \n",
      "4813                          0.0  \n",
      "4821                          0.0  \n",
      "4827                          0.0  \n",
      "4828                          0.0  \n",
      "9234                          0.0  \n",
      "\n",
      "[9235 rows x 5 columns]\n"
     ]
    }
   ],
   "source": [
    "\n",
    "mos_df_sorted.drop(columns=['Floor Call Percentage', 'weighted_score', 'normalized_weighted_score'], inplace=True)\n",
    "\n",
    "grouped_df = mos_df_sorted.groupby('MOS Sequence').sum().reset_index()\n",
    "\n",
    "grouped_df['Floor Percentage'] = (grouped_df['Number of Floor Calls'] / grouped_df['Total Occurrences']) * 100\n",
    "\n",
    "\n",
    "grouped_df.sort_values(by='Floor Percentage', ascending=False, inplace=True)\n",
    "\n",
    "print(grouped_df)\n"
   ]
  },
  {
   "cell_type": "code",
   "execution_count": 57,
   "metadata": {},
   "outputs": [
    {
     "name": "stdout",
     "output_type": "stream",
     "text": [
      "resolved_status MOS Sequence  Floor Percentage  Total Occurrences  \\\n",
      "8037                   TS RS         99.668456              34083   \n",
      "6975                      RS         99.712174              12855   \n",
      "6144                PP TS RS         99.675519              11711   \n",
      "4442                PI TS RS         99.643242              12053   \n",
      "5625                   PP RS         99.804147               8680   \n",
      "3748                   PI RS         99.611134               4886   \n",
      "7448                TS CT RS         99.682540               3150   \n",
      "2048                   CT RS         99.707174               2732   \n",
      "909                 AA TS RS         99.727308               2567   \n",
      "462              AA Mr TS RS         98.715203               2335   \n",
      "\n",
      "resolved_status  weighted_score  \n",
      "8037                 167.451045  \n",
      "6975                 166.981550  \n",
      "6144                 166.836455  \n",
      "4442                 166.810231  \n",
      "5625                 166.716301  \n",
      "3748                 165.414903  \n",
      "7448                 164.304271  \n",
      "2048                 163.820912  \n",
      "909                  163.600792  \n",
      "462                  161.593454  \n"
     ]
    }
   ],
   "source": [
    "\n",
    "w_fp = 0.6\n",
    "w_to = 0.4\n",
    "grouped_df['weighted_score'] = (w_fp + w_to) / ((w_fp / (grouped_df['Floor Percentage'] + 1)) + (w_to / (grouped_df['Total Occurrences'] + 1)))\n",
    "\n",
    "grouped_df = grouped_df.sort_values(by='weighted_score', ascending=False)\n",
    "\n",
    "print(grouped_df[['MOS Sequence', 'Floor Percentage', 'Total Occurrences', 'weighted_score']].head(10))"
   ]
  },
  {
   "cell_type": "code",
   "execution_count": 61,
   "metadata": {},
   "outputs": [
    {
     "name": "stdout",
     "output_type": "stream",
     "text": [
      "resolved_status MOS Sequence  Floor Percentage  Total Occurrences  \\\n",
      "8037                   TS RS         99.668456              34083   \n",
      "6975                      RS         99.712174              12855   \n",
      "6144                PP TS RS         99.675519              11711   \n",
      "4442                PI TS RS         99.643242              12053   \n",
      "5625                   PP RS         99.804147               8680   \n",
      "3748                   PI RS         99.611134               4886   \n",
      "7448                TS CT RS         99.682540               3150   \n",
      "2048                   CT RS         99.707174               2732   \n",
      "909                 AA TS RS         99.727308               2567   \n",
      "462              AA Mr TS RS         98.715203               2335   \n",
      "\n",
      "resolved_status  weighted_score  normalized_weighted_score  \n",
      "8037                 167.451045                   1.000000  \n",
      "6975                 166.981550                   0.997175  \n",
      "6144                 166.836455                   0.996302  \n",
      "4442                 166.810231                   0.996144  \n",
      "5625                 166.716301                   0.995579  \n",
      "3748                 165.414903                   0.987749  \n",
      "7448                 164.304271                   0.981066  \n",
      "2048                 163.820912                   0.978158  \n",
      "909                  163.600792                   0.976834  \n",
      "462                  161.593454                   0.964756  \n"
     ]
    }
   ],
   "source": [
    "\n",
    "scaler = MinMaxScaler()\n",
    "\n",
    "weighted_score = grouped_df[['weighted_score']]\n",
    "\n",
    "grouped_df['normalized_weighted_score'] = scaler.fit_transform(weighted_score)\n",
    "\n",
    "print(grouped_df[['MOS Sequence', 'Floor Percentage', 'Total Occurrences', 'weighted_score', 'normalized_weighted_score']].head(10))\n"
   ]
  },
  {
   "cell_type": "code",
   "execution_count": 62,
   "metadata": {},
   "outputs": [],
   "source": [
    "grouped_df.to_csv('cleaned_mos_analysis_weighted.csv', index=False)"
   ]
  },
  {
   "cell_type": "code",
   "execution_count": 55,
   "metadata": {},
   "outputs": [
    {
     "data": {
      "image/png": "[encoded data removed]",
      "text/plain": [
       "<Figure size 1200x900 with 1 Axes>"
      ]
     },
     "metadata": {},
     "output_type": "display_data"
    }
   ],
   "source": [
    "import pandas as pd\n",
    "import networkx as nx\n",
    "import matplotlib.pyplot as plt\n",
    "import matplotlib.patheffects as path_effects \n",
    "\n",
    "file_path = 'cleaned_mos_analysis_weighted.csv' \n",
    "data = pd.read_csv(file_path)\n",
    "\n",
    "data_subset = data.head(100)\n",
    "\n",
    "G = nx.Graph()\n",
    "\n",
    "node_sizes = {}\n",
    "\n",
    "for seq in data_subset['MOS Sequence']:\n",
    "    nodes = seq.split()\n",
    "    for i in range(len(nodes) - 1):\n",
    "        G.add_edge(nodes[i], nodes[i + 1])\n",
    "        node_sizes[nodes[i]] = node_sizes.get(nodes[i], 0) + 1\n",
    "    node_sizes[nodes[-1]] = node_sizes.get(nodes[-1], 0) + 1\n",
    "\n",
    "max_size = max(node_sizes.values())\n",
    "min_size = min(node_sizes.values())\n",
    "normalized_sizes = {node: ((size - min_size) / (max_size - min_size) * 200 + 20) for node, size in node_sizes.items()}\n",
    "\n",
    "pos = nx.spring_layout(G, seed=42)\n",
    "\n",
    "plt.figure(figsize=(12, 9), facecolor='white')\n",
    "ax = plt.gca()\n",
    "\n",
    "nodes = nx.draw_networkx_nodes(G, pos, node_size=[normalized_sizes[node] * 20 for node in G.nodes()],\n",
    "                               node_color=[normalized_sizes[node] for node in G.nodes()],\n",
    "                               cmap=plt.cm.Pastel2, alpha=1.0, edgecolors='#141414', linewidths=0)\n",
    "\n",
    "edges = nx.draw_networkx_edges(G, pos, edge_color='#c4c3c3', alpha=0.5, width=1)\n",
    "\n",
    "labels = nx.draw_networkx_labels(G, pos, font_size=8, font_color=\"black\")\n",
    "\n",
    "plt.title(\"MOS Codes which lead to greater Floor calls\", fontsize=20)\n",
    "plt.axis('off')\n",
    "plt.show()\n"
   ]
  },
  {
   "cell_type": "markdown",
   "metadata": {},
   "source": [
    "Saving all nodes and edges"
   ]
  },
  {
   "cell_type": "code",
   "execution_count": 67,
   "metadata": {},
   "outputs": [
    {
     "name": "stdout",
     "output_type": "stream",
     "text": [
      "Nodes and edges CSV files have been saved to nodes.csv and edges.csv, respectively.\n"
     ]
    }
   ],
   "source": [
    "import pandas as pd\n",
    "\n",
    "file_path = 'cleaned_mos_analysis_weighted.csv' \n",
    "data = pd.read_csv(file_path)\n",
    "\n",
    "data_subset = data.head(100)\n",
    "\n",
    "nodes = set()\n",
    "edges = []\n",
    "\n",
    "for index, row in data_subset.iterrows():\n",
    "    sequence = row['MOS Sequence'].split()\n",
    "    normalized_weighted_score = row['normalized_weighted_score']\n",
    "    for i in range(len(sequence) - 1):\n",
    "        source = sequence[i]\n",
    "        target = sequence[i + 1]\n",
    "        edges.append((source, target, normalized_weighted_score))\n",
    "        nodes.add(source)\n",
    "        nodes.add(target)\n",
    "\n",
    "nodes_df = pd.DataFrame({'Id': list(nodes)})\n",
    "edges_df = pd.DataFrame(edges, columns=['Source', 'Target', 'Weight'])\n",
    "\n",
    "nodes_file_path = 'nodes.csv'\n",
    "edges_file_path = 'edges.csv'\n",
    "\n",
    "nodes_df.to_csv(nodes_file_path, index=False)\n",
    "edges_df.to_csv(edges_file_path, index=False)\n",
    "\n",
    "print(f\"Nodes and edges CSV files have been saved to {nodes_file_path} and {edges_file_path}, respectively.\")"
   ]
  }
 ],
 "metadata": {
  "kernelspec": {
   "display_name": "Python 3",
   "language": "python",
   "name": "python3"
  },
  "language_info": {
   "codemirror_mode": {
    "name": "ipython",
    "version": 3
   },
   "file_extension": ".py",
   "mimetype": "text/x-python",
   "name": "python",
   "nbconvert_exporter": "python",
   "pygments_lexer": "ipython3",
   "version": "3.12.2"
  }
 },
 "nbformat": 4,
 "nbformat_minor": 2
}
