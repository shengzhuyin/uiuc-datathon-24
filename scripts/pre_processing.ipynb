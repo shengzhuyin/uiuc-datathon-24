{
 "cells": [
  {
   "cell_type": "code",
   "execution_count": 1,
   "metadata": {},
   "outputs": [],
   "source": [
    "import pandas as pd\n",
    "import numpy as np\n",
    "import matplotlib.pyplot as plt\n",
    "import seaborn as sns\n",
    "from datetime import datetime"
   ]
  },
  {
   "cell_type": "markdown",
   "metadata": {},
   "source": [
    "##### Load the dataset"
   ]
  },
  {
   "cell_type": "code",
   "execution_count": 2,
   "metadata": {},
   "outputs": [],
   "source": [
    "df = pd.read_csv('data.csv')"
   ]
  },
  {
   "cell_type": "markdown",
   "metadata": {},
   "source": [
    "##### Fixing the dataset"
   ]
  },
  {
   "cell_type": "markdown",
   "metadata": {},
   "source": [
    "Converting all retailer_codes to uppercase\n",
    "Reasoning: 1 dataset has all codes in uppercase, and 1 has in lowercase. Likely an error."
   ]
  },
  {
   "cell_type": "code",
   "execution_count": 76,
   "metadata": {},
   "outputs": [],
   "source": [
    "df['retailer_code'] = df['retailer_code'].str.upper()"
   ]
  },
  {
   "cell_type": "markdown",
   "metadata": {},
   "source": [
    "There are a lot of mos values which mean the same thing, but are represented with different codes. They are:\n",
    "1.   DP                               Disputes\n",
    "2.   DS                               Disputes\n",
    "3.    \n",
    "4.    PR                                Privacy\n",
    "5.    PV                                Privacy\n",
    "6.    \n",
    "7.    RV                               Recovery\n",
    "8.    CC                               Recovery\n",
    "9.    \n",
    "10.   Ls                     Report lost stolen\n",
    "11.   LS                     Report lost stolen\n",
    "12.   \n",
    "13.  MR                    SMS Account Summary\n",
    "14.  TA                    SMS Account Summary\n",
    "15.  TS                    SMS Account Summary\n",
    "16.  \n",
    "17.  Tf                    SMS Flip Activation\n",
    "18.  TF                    SMS Flip Activation\n",
    "19.  \n",
    "20.  TR                               Transfer\n",
    "21.  ss                               Transfer\n",
    "22.  \n",
    "23.   ER                  eService Registration\n",
    "24.   eR                  eService Registration"
   ]
  },
  {
   "cell_type": "code",
   "execution_count": 77,
   "metadata": {},
   "outputs": [],
   "source": [
    "code_mapping = {\n",
    "    'DS': 'DP', 'PV': 'PR', 'CC': 'RV', 'Ls': 'LS',\n",
    "    'TA': 'TS', 'MR': 'TS', 'Tf': 'TF', 'ss': 'TR', 'eR': 'ER'\n",
    "}\n",
    "\n",
    "def normalize_codes(mos_string):\n",
    "    codes = mos_string.split()\n",
    "    normalized_codes = [code_mapping.get(code, code) for code in codes]\n",
    "    return ' '.join(normalized_codes)\n",
    "\n",
    "df['mos'] = df['mos'].apply(normalize_codes)"
   ]
  },
  {
   "cell_type": "markdown",
   "metadata": {},
   "source": [
    "Print the columns and the first few rows of the dataset"
   ]
  },
  {
   "cell_type": "code",
   "execution_count": null,
   "metadata": {},
   "outputs": [],
   "source": [
    "print(\"Columns are:\")\n",
    "print(df.columns)\n",
    "print(\"First 2 rows are:\")\n",
    "print(df.head(2))"
   ]
  },
  {
   "cell_type": "code",
   "execution_count": 92,
   "metadata": {},
   "outputs": [
    {
     "name": "stdout",
     "output_type": "stream",
     "text": [
      "Null/Empty counts for each column:\n",
      "timestamp_call_key                        0\n",
      "retailer_code                             0\n",
      "serial                                    0\n",
      "reason                                    0\n",
      "mos                                       0\n",
      "resolved                                  0\n",
      "no_of_accounts_with_syf_13_march       3400\n",
      "account_balance_13_march             113782\n",
      "delinquency_history_13_march              0\n",
      "account_open_date_13_march                0\n",
      "account_status_13_march                   0\n",
      "card_activation_status_13_march           0\n",
      "eservice_ind_13_march                     0\n",
      "ebill_enrolled_status_13_march            0\n",
      "auto_pay_enrolled_status_13_march         0\n",
      "no_of_accounts_with_syf_18_march       3402\n",
      "account_balance_18_march             101829\n",
      "delinquency_history_18_march              0\n",
      "account_open_date_18_march                0\n",
      "account_status_18_march                   0\n",
      "card_activation_status_18_march           0\n",
      "eservice_ind_18_march                     0\n",
      "ebill_enrolled_status_18_march            0\n",
      "auto_pay_enrolled_status_18_march         0\n",
      "date_of_call                              0\n",
      "time_of_call                              0\n",
      "dtype: int64\n"
     ]
    }
   ],
   "source": [
    "null_counts = df.isnull().sum()\n",
    "print(\"Null/Empty counts for each column:\")\n",
    "print(null_counts)"
   ]
  },
  {
   "cell_type": "code",
   "execution_count": 89,
   "metadata": {},
   "outputs": [
    {
     "name": "stdout",
     "output_type": "stream",
     "text": [
      "Unique values in ebill_enrolled_status_13_march: ['E' 'N' 'B']\n",
      "Unique values in card_activation_status_13_march: ['0' '8' '7' '1']\n",
      "Unique values in account_status_13_march: ['N' 'C' 'A' 'L' 'U' 'B']\n"
     ]
    }
   ],
   "source": [
    "columns_to_check = [\n",
    "    'ebill_enrolled_status_13_march',\n",
    "    'card_activation_status_13_march',\n",
    "    'account_status_13_march'\n",
    "]\n",
    "\n",
    "for column in columns_to_check:\n",
    "    unique_values = df[column].unique()\n",
    "    print(f\"Unique values in {column}: {unique_values}\")\n"
   ]
  },
  {
   "cell_type": "code",
   "execution_count": 84,
   "metadata": {},
   "outputs": [],
   "source": [
    "df['ebill_enrolled_status_13_march'] = df['ebill_enrolled_status_13_march'].fillna('N').replace({' ': 'N', 'D': 'B', 'L': 'B'})\n",
    "df['ebill_enrolled_status_18_march'] = df['ebill_enrolled_status_18_march'].fillna('N').replace({' ': 'N', 'D': 'B', 'L': 'B'})"
   ]
  },
  {
   "cell_type": "code",
   "execution_count": 86,
   "metadata": {},
   "outputs": [],
   "source": [
    "df['card_activation_status_13_march'] = df['card_activation_status_13_march'].fillna('1').replace({' ': '1'})\n",
    "df['card_activation_status_18_march'] = df['card_activation_status_18_march'].fillna('1').replace({' ': '1'})\n"
   ]
  },
  {
   "cell_type": "code",
   "execution_count": 88,
   "metadata": {},
   "outputs": [],
   "source": [
    "df['account_status_13_march'] = df['account_status_13_march'].fillna('N').replace({'E': 'C', 'F': 'C', 'I': 'C', 'Z': 'C'})\n",
    "df['account_status_18_march'] = df['account_status_18_march'].fillna('N').replace({'E': 'C', 'F': 'C', 'I': 'C', 'Z': 'C'})\n"
   ]
  },
  {
   "cell_type": "code",
   "execution_count": 90,
   "metadata": {},
   "outputs": [],
   "source": [
    "df.to_csv('data_cleaned.csv', index=False)"
   ]
  },
  {
   "cell_type": "markdown",
   "metadata": {},
   "source": [
    "Create Date and Time (of call) columns, from given timestamp"
   ]
  },
  {
   "cell_type": "code",
   "execution_count": 79,
   "metadata": {},
   "outputs": [],
   "source": [
    "def parse_datetime(s):\n",
    "    # Extract just the datetime part before the space\n",
    "    datetime_part = s.split()[0]\n",
    "    \n",
    "    # Extract date and time parts\n",
    "    date_part = datetime_part[:6]\n",
    "    time_part = datetime_part[6:]\n",
    "    \n",
    "    # Parse date and time\n",
    "    date_parsed = datetime.strptime(date_part, '%y%m%d').date()\n",
    "    time_parsed = datetime.strptime(time_part, '%H%M%S').time()\n",
    "    \n",
    "    # Format the date in MM/DD/YYYY\n",
    "    date_str = date_parsed.strftime('%m/%d/%Y')\n",
    "    \n",
    "    # Return both values\n",
    "    return date_str, time_parsed"
   ]
  },
  {
   "cell_type": "code",
   "execution_count": 80,
   "metadata": {},
   "outputs": [],
   "source": [
    "df['date_of_call'], df['time_of_call'] = zip(*df['timestamp_call_key'].apply(parse_datetime))"
   ]
  },
  {
   "cell_type": "markdown",
   "metadata": {},
   "source": [
    "How many users called multiple times?"
   ]
  },
  {
   "cell_type": "code",
   "execution_count": 81,
   "metadata": {},
   "outputs": [
    {
     "name": "stdout",
     "output_type": "stream",
     "text": [
      "Count of serials that appear more than once: 505263\n"
     ]
    }
   ],
   "source": [
    "duplicate_serials_count = df['serial'].duplicated(keep=False).sum()\n",
    "print(f\"Count of serials that appear more than once: {duplicate_serials_count}\")\n"
   ]
  },
  {
   "cell_type": "markdown",
   "metadata": {},
   "source": [
    "Divide dataset depending on resolved status"
   ]
  },
  {
   "cell_type": "code",
   "execution_count": 91,
   "metadata": {},
   "outputs": [],
   "source": [
    "# Filter and save rows with 'resolved' value\n",
    "resolved_df = df[df['resolved'] == 'resolved']\n",
    "resolved_df.to_csv('data_resolved.csv', index=False)\n",
    "\n",
    "# Filter and save rows with 'floor' value\n",
    "floor_df = df[df['resolved'] == 'floor']\n",
    "floor_df.to_csv('data_floor.csv', index=False)\n"
   ]
  },
  {
   "cell_type": "markdown",
   "metadata": {},
   "source": [
    "#### Retailer-wise Analysis"
   ]
  },
  {
   "cell_type": "code",
   "execution_count": 63,
   "metadata": {},
   "outputs": [
    {
     "name": "stdout",
     "output_type": "stream",
     "text": [
      "resolved        floor  resolved\n",
      "retailer_code                  \n",
      "A              100384    317299\n",
      "B               70128    296197\n",
      "C               43032    172433\n",
      "D               53403    212044\n",
      "E               29013    129672\n",
      "F               15948     62555\n",
      "G               16388     63475\n",
      "H                8125     38060\n",
      "I                6654     38933\n",
      "J                4757     26121\n",
      "K                3052     16756\n",
      "L                5869     14382\n",
      "M                2157     12829\n",
      "N                2561     13666\n",
      "O                2262     10298\n",
      "P                 765      3800\n",
      "Q                 876      2214\n",
      "R                 300      1120\n",
      "S                 184       393\n",
      "T                 191       141\n",
      "U                 127        77\n",
      "V                   3         0\n",
      "W                  22        71\n",
      "X                   7        26\n",
      "Y                   9        19\n"
     ]
    }
   ],
   "source": [
    "retailer_resolved_floor_counts = df.groupby(['retailer_code', 'resolved']).size().unstack(fill_value=0)\n",
    "print(retailer_resolved_floor_counts)\n"
   ]
  },
  {
   "cell_type": "code",
   "execution_count": 51,
   "metadata": {},
   "outputs": [
    {
     "data": {
      "text/html": [
       "<div>\n",
       "<style scoped>\n",
       "    .dataframe tbody tr th:only-of-type {\n",
       "        vertical-align: middle;\n",
       "    }\n",
       "\n",
       "    .dataframe tbody tr th {\n",
       "        vertical-align: top;\n",
       "    }\n",
       "\n",
       "    .dataframe thead th {\n",
       "        text-align: right;\n",
       "    }\n",
       "</style>\n",
       "<table border=\"1\" class=\"dataframe\">\n",
       "  <thead>\n",
       "    <tr style=\"text-align: right;\">\n",
       "      <th>resolved</th>\n",
       "      <th>retailer_code</th>\n",
       "      <th>floor</th>\n",
       "      <th>resolved</th>\n",
       "      <th>total</th>\n",
       "      <th>floor_percentage</th>\n",
       "    </tr>\n",
       "  </thead>\n",
       "  <tbody>\n",
       "    <tr>\n",
       "      <th>0</th>\n",
       "      <td>V</td>\n",
       "      <td>3</td>\n",
       "      <td>0</td>\n",
       "      <td>3</td>\n",
       "      <td>100.000000</td>\n",
       "    </tr>\n",
       "    <tr>\n",
       "      <th>1</th>\n",
       "      <td>U</td>\n",
       "      <td>127</td>\n",
       "      <td>77</td>\n",
       "      <td>204</td>\n",
       "      <td>62.254902</td>\n",
       "    </tr>\n",
       "    <tr>\n",
       "      <th>2</th>\n",
       "      <td>T</td>\n",
       "      <td>191</td>\n",
       "      <td>141</td>\n",
       "      <td>332</td>\n",
       "      <td>57.530120</td>\n",
       "    </tr>\n",
       "    <tr>\n",
       "      <th>3</th>\n",
       "      <td>Y</td>\n",
       "      <td>9</td>\n",
       "      <td>19</td>\n",
       "      <td>28</td>\n",
       "      <td>32.142857</td>\n",
       "    </tr>\n",
       "    <tr>\n",
       "      <th>4</th>\n",
       "      <td>S</td>\n",
       "      <td>184</td>\n",
       "      <td>393</td>\n",
       "      <td>577</td>\n",
       "      <td>31.889081</td>\n",
       "    </tr>\n",
       "    <tr>\n",
       "      <th>5</th>\n",
       "      <td>L</td>\n",
       "      <td>5869</td>\n",
       "      <td>14382</td>\n",
       "      <td>20251</td>\n",
       "      <td>28.981285</td>\n",
       "    </tr>\n",
       "    <tr>\n",
       "      <th>6</th>\n",
       "      <td>Q</td>\n",
       "      <td>876</td>\n",
       "      <td>2214</td>\n",
       "      <td>3090</td>\n",
       "      <td>28.349515</td>\n",
       "    </tr>\n",
       "    <tr>\n",
       "      <th>7</th>\n",
       "      <td>A</td>\n",
       "      <td>100384</td>\n",
       "      <td>317299</td>\n",
       "      <td>417683</td>\n",
       "      <td>24.033537</td>\n",
       "    </tr>\n",
       "    <tr>\n",
       "      <th>8</th>\n",
       "      <td>W</td>\n",
       "      <td>22</td>\n",
       "      <td>71</td>\n",
       "      <td>93</td>\n",
       "      <td>23.655914</td>\n",
       "    </tr>\n",
       "    <tr>\n",
       "      <th>9</th>\n",
       "      <td>X</td>\n",
       "      <td>7</td>\n",
       "      <td>26</td>\n",
       "      <td>33</td>\n",
       "      <td>21.212121</td>\n",
       "    </tr>\n",
       "    <tr>\n",
       "      <th>10</th>\n",
       "      <td>R</td>\n",
       "      <td>300</td>\n",
       "      <td>1120</td>\n",
       "      <td>1420</td>\n",
       "      <td>21.126761</td>\n",
       "    </tr>\n",
       "    <tr>\n",
       "      <th>11</th>\n",
       "      <td>G</td>\n",
       "      <td>16388</td>\n",
       "      <td>63475</td>\n",
       "      <td>79863</td>\n",
       "      <td>20.520141</td>\n",
       "    </tr>\n",
       "    <tr>\n",
       "      <th>12</th>\n",
       "      <td>F</td>\n",
       "      <td>15948</td>\n",
       "      <td>62555</td>\n",
       "      <td>78503</td>\n",
       "      <td>20.315147</td>\n",
       "    </tr>\n",
       "    <tr>\n",
       "      <th>13</th>\n",
       "      <td>D</td>\n",
       "      <td>53403</td>\n",
       "      <td>212044</td>\n",
       "      <td>265447</td>\n",
       "      <td>20.118140</td>\n",
       "    </tr>\n",
       "    <tr>\n",
       "      <th>14</th>\n",
       "      <td>C</td>\n",
       "      <td>43032</td>\n",
       "      <td>172433</td>\n",
       "      <td>215465</td>\n",
       "      <td>19.971689</td>\n",
       "    </tr>\n",
       "    <tr>\n",
       "      <th>15</th>\n",
       "      <td>B</td>\n",
       "      <td>70128</td>\n",
       "      <td>296197</td>\n",
       "      <td>366325</td>\n",
       "      <td>19.143657</td>\n",
       "    </tr>\n",
       "    <tr>\n",
       "      <th>16</th>\n",
       "      <td>E</td>\n",
       "      <td>29013</td>\n",
       "      <td>129672</td>\n",
       "      <td>158685</td>\n",
       "      <td>18.283392</td>\n",
       "    </tr>\n",
       "    <tr>\n",
       "      <th>17</th>\n",
       "      <td>O</td>\n",
       "      <td>2262</td>\n",
       "      <td>10298</td>\n",
       "      <td>12560</td>\n",
       "      <td>18.009554</td>\n",
       "    </tr>\n",
       "    <tr>\n",
       "      <th>18</th>\n",
       "      <td>H</td>\n",
       "      <td>8125</td>\n",
       "      <td>38060</td>\n",
       "      <td>46185</td>\n",
       "      <td>17.592292</td>\n",
       "    </tr>\n",
       "    <tr>\n",
       "      <th>19</th>\n",
       "      <td>P</td>\n",
       "      <td>765</td>\n",
       "      <td>3800</td>\n",
       "      <td>4565</td>\n",
       "      <td>16.757941</td>\n",
       "    </tr>\n",
       "    <tr>\n",
       "      <th>20</th>\n",
       "      <td>N</td>\n",
       "      <td>2561</td>\n",
       "      <td>13666</td>\n",
       "      <td>16227</td>\n",
       "      <td>15.782338</td>\n",
       "    </tr>\n",
       "    <tr>\n",
       "      <th>21</th>\n",
       "      <td>K</td>\n",
       "      <td>3052</td>\n",
       "      <td>16756</td>\n",
       "      <td>19808</td>\n",
       "      <td>15.407916</td>\n",
       "    </tr>\n",
       "    <tr>\n",
       "      <th>22</th>\n",
       "      <td>J</td>\n",
       "      <td>4757</td>\n",
       "      <td>26121</td>\n",
       "      <td>30878</td>\n",
       "      <td>15.405791</td>\n",
       "    </tr>\n",
       "    <tr>\n",
       "      <th>23</th>\n",
       "      <td>I</td>\n",
       "      <td>6654</td>\n",
       "      <td>38933</td>\n",
       "      <td>45587</td>\n",
       "      <td>14.596266</td>\n",
       "    </tr>\n",
       "    <tr>\n",
       "      <th>24</th>\n",
       "      <td>M</td>\n",
       "      <td>2157</td>\n",
       "      <td>12829</td>\n",
       "      <td>14986</td>\n",
       "      <td>14.393434</td>\n",
       "    </tr>\n",
       "  </tbody>\n",
       "</table>\n",
       "</div>"
      ],
      "text/plain": [
       "resolved retailer_code   floor  resolved   total  floor_percentage\n",
       "0                    V       3         0       3        100.000000\n",
       "1                    U     127        77     204         62.254902\n",
       "2                    T     191       141     332         57.530120\n",
       "3                    Y       9        19      28         32.142857\n",
       "4                    S     184       393     577         31.889081\n",
       "5                    L    5869     14382   20251         28.981285\n",
       "6                    Q     876      2214    3090         28.349515\n",
       "7                    A  100384    317299  417683         24.033537\n",
       "8                    W      22        71      93         23.655914\n",
       "9                    X       7        26      33         21.212121\n",
       "10                   R     300      1120    1420         21.126761\n",
       "11                   G   16388     63475   79863         20.520141\n",
       "12                   F   15948     62555   78503         20.315147\n",
       "13                   D   53403    212044  265447         20.118140\n",
       "14                   C   43032    172433  215465         19.971689\n",
       "15                   B   70128    296197  366325         19.143657\n",
       "16                   E   29013    129672  158685         18.283392\n",
       "17                   O    2262     10298   12560         18.009554\n",
       "18                   H    8125     38060   46185         17.592292\n",
       "19                   P     765      3800    4565         16.757941\n",
       "20                   N    2561     13666   16227         15.782338\n",
       "21                   K    3052     16756   19808         15.407916\n",
       "22                   J    4757     26121   30878         15.405791\n",
       "23                   I    6654     38933   45587         14.596266\n",
       "24                   M    2157     12829   14986         14.393434"
      ]
     },
     "execution_count": 51,
     "metadata": {},
     "output_type": "execute_result"
    }
   ],
   "source": [
    "# Counting occurrences of each resolution status for each retailer\n",
    "resolution_counts = df.groupby('retailer_code')['resolved'].value_counts().unstack(fill_value=0)\n",
    "\n",
    "# Calculating total calls per retailer for bubble size\n",
    "resolution_counts['total'] = resolution_counts.sum(axis=1)\n",
    "\n",
    "# Calculating percentage of 'floor' resolutions\n",
    "resolution_counts['floor_percentage'] = (resolution_counts['floor'] / resolution_counts['total']) * 100\n",
    "\n",
    "# Sorting retailers by floor percentage\n",
    "resolution_counts_sorted = resolution_counts.sort_values(by='floor_percentage', ascending=False)\n",
    "\n",
    "# Resetting index to use retailer_code as a column\n",
    "resolution_counts_reset = resolution_counts_sorted.reset_index()\n",
    "\n",
    "# Displaying the processed DataFrame for visualization\n",
    "resolution_counts_reset\n"
   ]
  },
  {
   "cell_type": "markdown",
   "metadata": {},
   "source": []
  },
  {
   "cell_type": "code",
   "execution_count": 97,
   "metadata": {},
   "outputs": [
    {
     "name": "stdout",
     "output_type": "stream",
     "text": [
      "Account Status Changes: 34164\n",
      "Ebill Enrolled Status Changes: 19762\n",
      "Card Activation Status Changes: 35530\n"
     ]
    }
   ],
   "source": [
    "# Changes from 'account_status_13_march' to 'account_status_18_march'\n",
    "account_status_changes = (df['account_status_13_march'] != df['account_status_18_march']).sum()\n",
    "\n",
    "# Changes from 'ebill_enrolled_status_13_march' to 'ebill_enrolled_status_18_march'\n",
    "ebill_enrolled_status_changes = (df['ebill_enrolled_status_13_march'] != df['ebill_enrolled_status_18_march']).sum()\n",
    "\n",
    "# Changes from 'card_activation_status_13_march' to 'card_activation_status_18_march'\n",
    "card_activation_status_changes = (df['card_activation_status_13_march'] != df['card_activation_status_18_march']).sum()\n",
    "\n",
    "print(f\"Account Status Changes: {account_status_changes}\")\n",
    "print(f\"Ebill Enrolled Status Changes: {ebill_enrolled_status_changes}\")\n",
    "print(f\"Card Activation Status Changes: {card_activation_status_changes}\")"
   ]
  },
  {
   "cell_type": "code",
   "execution_count": 98,
   "metadata": {},
   "outputs": [
    {
     "name": "stdout",
     "output_type": "stream",
     "text": [
      "\n",
      "Counts for account_status_13_march:\n",
      "resolved                  floor  resolved\n",
      "account_status_13_march                  \n",
      "A                          5061      1121\n",
      "B                            42         4\n",
      "C                         21236     36770\n",
      "L                           683       747\n",
      "N                        338998   1393770\n",
      "U                           197       169\n",
      "\n",
      "Counts for ebill_enrolled_status_13_march:\n",
      "resolved                         floor  resolved\n",
      "ebill_enrolled_status_13_march                  \n",
      "B                                68053    273520\n",
      "E                               136871    371518\n",
      "N                               161293    787543\n",
      "\n",
      "Counts for card_activation_status_13_march:\n",
      "resolved                          floor  resolved\n",
      "card_activation_status_13_march                  \n",
      "0                                323271   1323005\n",
      "1                                  5664     19610\n",
      "7                                 19552     40070\n",
      "8                                 17730     49896\n"
     ]
    }
   ],
   "source": [
    "columns_to_group = [\n",
    "    'account_status_13_march',\n",
    "    'ebill_enrolled_status_13_march',\n",
    "    'card_activation_status_13_march'\n",
    "]\n",
    "\n",
    "for column in columns_to_group:\n",
    "    print(f\"\\nCounts for {column}:\")\n",
    "    group_counts = df.groupby([column, 'resolved']).size().unstack(fill_value=0)\n",
    "    print(group_counts)\n"
   ]
  }
 ],
 "metadata": {
  "kernelspec": {
   "display_name": "Python 3",
   "language": "python",
   "name": "python3"
  },
  "language_info": {
   "codemirror_mode": {
    "name": "ipython",
    "version": 3
   },
   "file_extension": ".py",
   "mimetype": "text/x-python",
   "name": "python",
   "nbconvert_exporter": "python",
   "pygments_lexer": "ipython3",
   "version": "3.12.2"
  }
 },
 "nbformat": 4,
 "nbformat_minor": 2
}
